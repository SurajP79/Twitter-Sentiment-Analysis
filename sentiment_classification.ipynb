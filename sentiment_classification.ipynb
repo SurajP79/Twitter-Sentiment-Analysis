{
  "metadata": {
    "kernelspec": {
      "language": "python",
      "display_name": "Python 3",
      "name": "python3"
    },
    "language_info": {
      "name": "python",
      "version": "3.7.6",
      "mimetype": "text/x-python",
      "codemirror_mode": {
        "name": "ipython",
        "version": 3
      },
      "pygments_lexer": "ipython3",
      "nbconvert_exporter": "python",
      "file_extension": ".py"
    },
    "colab": {
      "provenance": []
    }
  },
  "nbformat_minor": 0,
  "nbformat": 4,
  "cells": [
    {
      "cell_type": "markdown",
      "source": [
        "### Import Necessary Library"
      ],
      "metadata": {
        "id": "d85vu6ahiMiQ"
      }
    },
    {
      "cell_type": "code",
      "source": [
        "import pandas as pd\n",
        "import numpy as np\n",
        "import matplotlib.pyplot as plt\n",
        "import seaborn as sns\n",
        "import tensorflow as tf\n",
        "import re\n",
        "import nltk\n",
        "from tqdm import tqdm\n",
        "from tensorflow.keras.preprocessing.sequence import pad_sequences\n",
        "from tensorflow.keras.utils import to_categorical\n",
        "from keras.models import Sequential\n",
        "from sklearn import metrics\n",
        "from tensorflow.keras import Model\n",
        "import matplotlib.pyplot as plt\n",
        "from tensorflow.keras.preprocessing.text import Tokenizer\n",
        "from tensorflow.keras.preprocessing.text import text_to_word_sequence\n",
        "from tensorflow.keras.layers import Input, Conv1D, Concatenate, MaxPooling1D, Dense, Flatten, Embedding, LSTM, SpatialDropout1D, Dropout, MaxPooling2D, Bidirectional\n",
        "from sklearn.preprocessing import OrdinalEncoder\n",
        "from sklearn.model_selection import train_test_split\n",
        "from tensorflow.keras.optimizers import Adam, Adamax"
      ],
      "metadata": {
        "_uuid": "8f2839f25d086af736a60e9eeb907d3b93b6e0e5",
        "_cell_guid": "b1076dfc-b9ad-4769-8c92-a6c4dae69d19",
        "execution": {
          "iopub.status.busy": "2021-07-10T10:47:31.677080Z",
          "iopub.execute_input": "2021-07-10T10:47:31.677482Z",
          "iopub.status.idle": "2021-07-10T10:47:31.690083Z",
          "shell.execute_reply.started": "2021-07-10T10:47:31.677449Z",
          "shell.execute_reply": "2021-07-10T10:47:31.688274Z"
        },
        "trusted": true,
        "id": "neJaQfXZiMiI"
      },
      "execution_count": 26,
      "outputs": []
    },
    {
      "cell_type": "markdown",
      "source": [
        "### Load Data"
      ],
      "metadata": {
        "id": "TuNS32WOkEkg"
      }
    },
    {
      "cell_type": "code",
      "source": [
        "# load the data\n",
        "data = pd.read_csv(\"/content/train.csv\")\n",
        "data.head()"
      ],
      "metadata": {
        "_uuid": "d629ff2d2480ee46fbb7e2d37f6b5fab8052498a",
        "_cell_guid": "79c7e3d0-c299-4dcb-8224-4455121ee9b0",
        "execution": {
          "iopub.status.busy": "2021-07-10T10:47:35.539662Z",
          "iopub.execute_input": "2021-07-10T10:47:35.540027Z",
          "iopub.status.idle": "2021-07-10T10:47:35.632410Z",
          "shell.execute_reply.started": "2021-07-10T10:47:35.539995Z",
          "shell.execute_reply": "2021-07-10T10:47:35.631063Z"
        },
        "trusted": true,
        "colab": {
          "base_uri": "https://localhost:8080/",
          "height": 206
        },
        "id": "sNdWLGwjiMiY",
        "outputId": "846f60db-e249-4c4b-9b03-ec447b1193af"
      },
      "execution_count": 3,
      "outputs": [
        {
          "output_type": "execute_result",
          "data": {
            "text/plain": [
              "       textID                                               text  \\\n",
              "0  cb774db0d1                I`d have responded, if I were going   \n",
              "1  549e992a42      Sooo SAD I will miss you here in San Diego!!!   \n",
              "2  088c60f138                          my boss is bullying me...   \n",
              "3  9642c003ef                     what interview! leave me alone   \n",
              "4  358bd9e861   Sons of ****, why couldn`t they put them on t...   \n",
              "\n",
              "                         selected_text sentiment  \n",
              "0  I`d have responded, if I were going   neutral  \n",
              "1                             Sooo SAD  negative  \n",
              "2                          bullying me  negative  \n",
              "3                       leave me alone  negative  \n",
              "4                        Sons of ****,  negative  "
            ],
            "text/html": [
              "\n",
              "  <div id=\"df-83bd22a9-ed68-4758-bbe6-52beca2168a3\" class=\"colab-df-container\">\n",
              "    <div>\n",
              "<style scoped>\n",
              "    .dataframe tbody tr th:only-of-type {\n",
              "        vertical-align: middle;\n",
              "    }\n",
              "\n",
              "    .dataframe tbody tr th {\n",
              "        vertical-align: top;\n",
              "    }\n",
              "\n",
              "    .dataframe thead th {\n",
              "        text-align: right;\n",
              "    }\n",
              "</style>\n",
              "<table border=\"1\" class=\"dataframe\">\n",
              "  <thead>\n",
              "    <tr style=\"text-align: right;\">\n",
              "      <th></th>\n",
              "      <th>textID</th>\n",
              "      <th>text</th>\n",
              "      <th>selected_text</th>\n",
              "      <th>sentiment</th>\n",
              "    </tr>\n",
              "  </thead>\n",
              "  <tbody>\n",
              "    <tr>\n",
              "      <th>0</th>\n",
              "      <td>cb774db0d1</td>\n",
              "      <td>I`d have responded, if I were going</td>\n",
              "      <td>I`d have responded, if I were going</td>\n",
              "      <td>neutral</td>\n",
              "    </tr>\n",
              "    <tr>\n",
              "      <th>1</th>\n",
              "      <td>549e992a42</td>\n",
              "      <td>Sooo SAD I will miss you here in San Diego!!!</td>\n",
              "      <td>Sooo SAD</td>\n",
              "      <td>negative</td>\n",
              "    </tr>\n",
              "    <tr>\n",
              "      <th>2</th>\n",
              "      <td>088c60f138</td>\n",
              "      <td>my boss is bullying me...</td>\n",
              "      <td>bullying me</td>\n",
              "      <td>negative</td>\n",
              "    </tr>\n",
              "    <tr>\n",
              "      <th>3</th>\n",
              "      <td>9642c003ef</td>\n",
              "      <td>what interview! leave me alone</td>\n",
              "      <td>leave me alone</td>\n",
              "      <td>negative</td>\n",
              "    </tr>\n",
              "    <tr>\n",
              "      <th>4</th>\n",
              "      <td>358bd9e861</td>\n",
              "      <td>Sons of ****, why couldn`t they put them on t...</td>\n",
              "      <td>Sons of ****,</td>\n",
              "      <td>negative</td>\n",
              "    </tr>\n",
              "  </tbody>\n",
              "</table>\n",
              "</div>\n",
              "    <div class=\"colab-df-buttons\">\n",
              "\n",
              "  <div class=\"colab-df-container\">\n",
              "    <button class=\"colab-df-convert\" onclick=\"convertToInteractive('df-83bd22a9-ed68-4758-bbe6-52beca2168a3')\"\n",
              "            title=\"Convert this dataframe to an interactive table.\"\n",
              "            style=\"display:none;\">\n",
              "\n",
              "  <svg xmlns=\"http://www.w3.org/2000/svg\" height=\"24px\" viewBox=\"0 -960 960 960\">\n",
              "    <path d=\"M120-120v-720h720v720H120Zm60-500h600v-160H180v160Zm220 220h160v-160H400v160Zm0 220h160v-160H400v160ZM180-400h160v-160H180v160Zm440 0h160v-160H620v160ZM180-180h160v-160H180v160Zm440 0h160v-160H620v160Z\"/>\n",
              "  </svg>\n",
              "    </button>\n",
              "\n",
              "  <style>\n",
              "    .colab-df-container {\n",
              "      display:flex;\n",
              "      gap: 12px;\n",
              "    }\n",
              "\n",
              "    .colab-df-convert {\n",
              "      background-color: #E8F0FE;\n",
              "      border: none;\n",
              "      border-radius: 50%;\n",
              "      cursor: pointer;\n",
              "      display: none;\n",
              "      fill: #1967D2;\n",
              "      height: 32px;\n",
              "      padding: 0 0 0 0;\n",
              "      width: 32px;\n",
              "    }\n",
              "\n",
              "    .colab-df-convert:hover {\n",
              "      background-color: #E2EBFA;\n",
              "      box-shadow: 0px 1px 2px rgba(60, 64, 67, 0.3), 0px 1px 3px 1px rgba(60, 64, 67, 0.15);\n",
              "      fill: #174EA6;\n",
              "    }\n",
              "\n",
              "    .colab-df-buttons div {\n",
              "      margin-bottom: 4px;\n",
              "    }\n",
              "\n",
              "    [theme=dark] .colab-df-convert {\n",
              "      background-color: #3B4455;\n",
              "      fill: #D2E3FC;\n",
              "    }\n",
              "\n",
              "    [theme=dark] .colab-df-convert:hover {\n",
              "      background-color: #434B5C;\n",
              "      box-shadow: 0px 1px 3px 1px rgba(0, 0, 0, 0.15);\n",
              "      filter: drop-shadow(0px 1px 2px rgba(0, 0, 0, 0.3));\n",
              "      fill: #FFFFFF;\n",
              "    }\n",
              "  </style>\n",
              "\n",
              "    <script>\n",
              "      const buttonEl =\n",
              "        document.querySelector('#df-83bd22a9-ed68-4758-bbe6-52beca2168a3 button.colab-df-convert');\n",
              "      buttonEl.style.display =\n",
              "        google.colab.kernel.accessAllowed ? 'block' : 'none';\n",
              "\n",
              "      async function convertToInteractive(key) {\n",
              "        const element = document.querySelector('#df-83bd22a9-ed68-4758-bbe6-52beca2168a3');\n",
              "        const dataTable =\n",
              "          await google.colab.kernel.invokeFunction('convertToInteractive',\n",
              "                                                    [key], {});\n",
              "        if (!dataTable) return;\n",
              "\n",
              "        const docLinkHtml = 'Like what you see? Visit the ' +\n",
              "          '<a target=\"_blank\" href=https://colab.research.google.com/notebooks/data_table.ipynb>data table notebook</a>'\n",
              "          + ' to learn more about interactive tables.';\n",
              "        element.innerHTML = '';\n",
              "        dataTable['output_type'] = 'display_data';\n",
              "        await google.colab.output.renderOutput(dataTable, element);\n",
              "        const docLink = document.createElement('div');\n",
              "        docLink.innerHTML = docLinkHtml;\n",
              "        element.appendChild(docLink);\n",
              "      }\n",
              "    </script>\n",
              "  </div>\n",
              "\n",
              "\n",
              "<div id=\"df-4d99e454-317d-4296-a6d4-043ffea1b890\">\n",
              "  <button class=\"colab-df-quickchart\" onclick=\"quickchart('df-4d99e454-317d-4296-a6d4-043ffea1b890')\"\n",
              "            title=\"Suggest charts\"\n",
              "            style=\"display:none;\">\n",
              "\n",
              "<svg xmlns=\"http://www.w3.org/2000/svg\" height=\"24px\"viewBox=\"0 0 24 24\"\n",
              "     width=\"24px\">\n",
              "    <g>\n",
              "        <path d=\"M19 3H5c-1.1 0-2 .9-2 2v14c0 1.1.9 2 2 2h14c1.1 0 2-.9 2-2V5c0-1.1-.9-2-2-2zM9 17H7v-7h2v7zm4 0h-2V7h2v10zm4 0h-2v-4h2v4z\"/>\n",
              "    </g>\n",
              "</svg>\n",
              "  </button>\n",
              "\n",
              "<style>\n",
              "  .colab-df-quickchart {\n",
              "      --bg-color: #E8F0FE;\n",
              "      --fill-color: #1967D2;\n",
              "      --hover-bg-color: #E2EBFA;\n",
              "      --hover-fill-color: #174EA6;\n",
              "      --disabled-fill-color: #AAA;\n",
              "      --disabled-bg-color: #DDD;\n",
              "  }\n",
              "\n",
              "  [theme=dark] .colab-df-quickchart {\n",
              "      --bg-color: #3B4455;\n",
              "      --fill-color: #D2E3FC;\n",
              "      --hover-bg-color: #434B5C;\n",
              "      --hover-fill-color: #FFFFFF;\n",
              "      --disabled-bg-color: #3B4455;\n",
              "      --disabled-fill-color: #666;\n",
              "  }\n",
              "\n",
              "  .colab-df-quickchart {\n",
              "    background-color: var(--bg-color);\n",
              "    border: none;\n",
              "    border-radius: 50%;\n",
              "    cursor: pointer;\n",
              "    display: none;\n",
              "    fill: var(--fill-color);\n",
              "    height: 32px;\n",
              "    padding: 0;\n",
              "    width: 32px;\n",
              "  }\n",
              "\n",
              "  .colab-df-quickchart:hover {\n",
              "    background-color: var(--hover-bg-color);\n",
              "    box-shadow: 0 1px 2px rgba(60, 64, 67, 0.3), 0 1px 3px 1px rgba(60, 64, 67, 0.15);\n",
              "    fill: var(--button-hover-fill-color);\n",
              "  }\n",
              "\n",
              "  .colab-df-quickchart-complete:disabled,\n",
              "  .colab-df-quickchart-complete:disabled:hover {\n",
              "    background-color: var(--disabled-bg-color);\n",
              "    fill: var(--disabled-fill-color);\n",
              "    box-shadow: none;\n",
              "  }\n",
              "\n",
              "  .colab-df-spinner {\n",
              "    border: 2px solid var(--fill-color);\n",
              "    border-color: transparent;\n",
              "    border-bottom-color: var(--fill-color);\n",
              "    animation:\n",
              "      spin 1s steps(1) infinite;\n",
              "  }\n",
              "\n",
              "  @keyframes spin {\n",
              "    0% {\n",
              "      border-color: transparent;\n",
              "      border-bottom-color: var(--fill-color);\n",
              "      border-left-color: var(--fill-color);\n",
              "    }\n",
              "    20% {\n",
              "      border-color: transparent;\n",
              "      border-left-color: var(--fill-color);\n",
              "      border-top-color: var(--fill-color);\n",
              "    }\n",
              "    30% {\n",
              "      border-color: transparent;\n",
              "      border-left-color: var(--fill-color);\n",
              "      border-top-color: var(--fill-color);\n",
              "      border-right-color: var(--fill-color);\n",
              "    }\n",
              "    40% {\n",
              "      border-color: transparent;\n",
              "      border-right-color: var(--fill-color);\n",
              "      border-top-color: var(--fill-color);\n",
              "    }\n",
              "    60% {\n",
              "      border-color: transparent;\n",
              "      border-right-color: var(--fill-color);\n",
              "    }\n",
              "    80% {\n",
              "      border-color: transparent;\n",
              "      border-right-color: var(--fill-color);\n",
              "      border-bottom-color: var(--fill-color);\n",
              "    }\n",
              "    90% {\n",
              "      border-color: transparent;\n",
              "      border-bottom-color: var(--fill-color);\n",
              "    }\n",
              "  }\n",
              "</style>\n",
              "\n",
              "  <script>\n",
              "    async function quickchart(key) {\n",
              "      const quickchartButtonEl =\n",
              "        document.querySelector('#' + key + ' button');\n",
              "      quickchartButtonEl.disabled = true;  // To prevent multiple clicks.\n",
              "      quickchartButtonEl.classList.add('colab-df-spinner');\n",
              "      try {\n",
              "        const charts = await google.colab.kernel.invokeFunction(\n",
              "            'suggestCharts', [key], {});\n",
              "      } catch (error) {\n",
              "        console.error('Error during call to suggestCharts:', error);\n",
              "      }\n",
              "      quickchartButtonEl.classList.remove('colab-df-spinner');\n",
              "      quickchartButtonEl.classList.add('colab-df-quickchart-complete');\n",
              "    }\n",
              "    (() => {\n",
              "      let quickchartButtonEl =\n",
              "        document.querySelector('#df-4d99e454-317d-4296-a6d4-043ffea1b890 button');\n",
              "      quickchartButtonEl.style.display =\n",
              "        google.colab.kernel.accessAllowed ? 'block' : 'none';\n",
              "    })();\n",
              "  </script>\n",
              "</div>\n",
              "    </div>\n",
              "  </div>\n"
            ]
          },
          "metadata": {},
          "execution_count": 3
        }
      ]
    },
    {
      "cell_type": "code",
      "source": [
        "# print info of data\n",
        "data.info()"
      ],
      "metadata": {
        "execution": {
          "iopub.status.busy": "2021-07-10T10:47:36.344406Z",
          "iopub.execute_input": "2021-07-10T10:47:36.344834Z",
          "iopub.status.idle": "2021-07-10T10:47:36.368992Z",
          "shell.execute_reply.started": "2021-07-10T10:47:36.344801Z",
          "shell.execute_reply": "2021-07-10T10:47:36.367454Z"
        },
        "trusted": true,
        "colab": {
          "base_uri": "https://localhost:8080/"
        },
        "id": "fZNh34VUiMiZ",
        "outputId": "7a2074d5-2cca-4c49-c239-33870132f538"
      },
      "execution_count": 4,
      "outputs": [
        {
          "output_type": "stream",
          "name": "stdout",
          "text": [
            "<class 'pandas.core.frame.DataFrame'>\n",
            "RangeIndex: 27481 entries, 0 to 27480\n",
            "Data columns (total 4 columns):\n",
            " #   Column         Non-Null Count  Dtype \n",
            "---  ------         --------------  ----- \n",
            " 0   textID         27481 non-null  object\n",
            " 1   text           27480 non-null  object\n",
            " 2   selected_text  27480 non-null  object\n",
            " 3   sentiment      27481 non-null  object\n",
            "dtypes: object(4)\n",
            "memory usage: 858.9+ KB\n"
          ]
        }
      ]
    },
    {
      "cell_type": "markdown",
      "source": [
        "### Preprocessing"
      ],
      "metadata": {
        "id": "ZTwDQcibiMiZ"
      }
    },
    {
      "cell_type": "markdown",
      "source": [
        "#### Dropping Null Values"
      ],
      "metadata": {
        "id": "ahidHlXXkjO_"
      }
    },
    {
      "cell_type": "code",
      "source": [
        "# removing Null values\n",
        "data.dropna(inplace= True)\n",
        "\n",
        "print(\"No of training data:\", data.shape[0])\n",
        "data.info()"
      ],
      "metadata": {
        "execution": {
          "iopub.status.busy": "2021-07-10T10:47:37.430020Z",
          "iopub.execute_input": "2021-07-10T10:47:37.430485Z",
          "iopub.status.idle": "2021-07-10T10:47:37.469776Z",
          "shell.execute_reply.started": "2021-07-10T10:47:37.430451Z",
          "shell.execute_reply": "2021-07-10T10:47:37.468529Z"
        },
        "trusted": true,
        "colab": {
          "base_uri": "https://localhost:8080/"
        },
        "id": "NoERUrIOiMia",
        "outputId": "76bad6f0-3174-40b9-c332-82a236066992"
      },
      "execution_count": 5,
      "outputs": [
        {
          "output_type": "stream",
          "name": "stdout",
          "text": [
            "No of training data: 27480\n",
            "<class 'pandas.core.frame.DataFrame'>\n",
            "Int64Index: 27480 entries, 0 to 27480\n",
            "Data columns (total 4 columns):\n",
            " #   Column         Non-Null Count  Dtype \n",
            "---  ------         --------------  ----- \n",
            " 0   textID         27480 non-null  object\n",
            " 1   text           27480 non-null  object\n",
            " 2   selected_text  27480 non-null  object\n",
            " 3   sentiment      27480 non-null  object\n",
            "dtypes: object(4)\n",
            "memory usage: 1.0+ MB\n"
          ]
        }
      ]
    },
    {
      "cell_type": "markdown",
      "source": [
        "#### Checking Data Imbalance"
      ],
      "metadata": {
        "id": "ug77RiV6iMib"
      }
    },
    {
      "cell_type": "code",
      "source": [
        "print(data['sentiment'].value_counts(), \"\\n\")\n",
        "print(\"No of training examples:\", data.shape[0])\n",
        "\n",
        "# plot class distribution\n",
        "sentiments = []\n",
        "sentiment_count = []\n",
        "for i in data.sentiment.unique():\n",
        "    sentiments.append(i)\n",
        "    sentiment_count.append(data.sentiment[data.sentiment==i].count())\n",
        "plt.bar(sentiments, sentiment_count, color = [\"r\", \"g\", \"b\"])"
      ],
      "metadata": {
        "execution": {
          "iopub.status.busy": "2021-07-10T10:47:40.474705Z",
          "iopub.execute_input": "2021-07-10T10:47:40.475068Z",
          "iopub.status.idle": "2021-07-10T10:47:40.642343Z",
          "shell.execute_reply.started": "2021-07-10T10:47:40.475036Z",
          "shell.execute_reply": "2021-07-10T10:47:40.640946Z"
        },
        "trusted": true,
        "colab": {
          "base_uri": "https://localhost:8080/",
          "height": 552
        },
        "id": "iKfpMSskiMic",
        "outputId": "86f0ad79-fb8a-4842-c4ba-10e8bda9e05b"
      },
      "execution_count": 9,
      "outputs": [
        {
          "output_type": "stream",
          "name": "stdout",
          "text": [
            "neutral     11117\n",
            "positive     8582\n",
            "negative     7781\n",
            "Name: sentiment, dtype: int64 \n",
            "\n",
            "No of training examples: 27480\n"
          ]
        },
        {
          "output_type": "execute_result",
          "data": {
            "text/plain": [
              "<BarContainer object of 3 artists>"
            ]
          },
          "metadata": {},
          "execution_count": 9
        },
        {
          "output_type": "display_data",
          "data": {
            "text/plain": [
              "<Figure size 640x480 with 1 Axes>"
            ],
            "image/png": "[encoded data removed]"
          },
          "metadata": {}
        }
      ]
    },
    {
      "cell_type": "markdown",
      "source": [
        "Neutral classes are more than the Positive and Negative classes. There is no major imbalance in the dataset"
      ],
      "metadata": {
        "id": "OxNZaaIak7yu"
      }
    },
    {
      "cell_type": "markdown",
      "source": [
        "#### Encode the classes"
      ],
      "metadata": {
        "id": "W6DjUpzQlLOA"
      }
    },
    {
      "cell_type": "markdown",
      "source": [
        "Negative classes are set to the 0, neutral classes set as 1 and positive classes set as 2"
      ],
      "metadata": {
        "id": "FcyG8vaqlczo"
      }
    },
    {
      "cell_type": "code",
      "source": [
        "data[\"sentiment\"].replace(\"neutral\", 1, inplace = True)\n",
        "data[\"sentiment\"].replace(\"positive\", 2, inplace = True)\n",
        "data[\"sentiment\"].replace(\"negative\", 0, inplace = True)\n",
        "data.head()"
      ],
      "metadata": {
        "execution": {
          "iopub.status.busy": "2021-07-10T10:47:40.710357Z",
          "iopub.execute_input": "2021-07-10T10:47:40.710784Z",
          "iopub.status.idle": "2021-07-10T10:47:40.745251Z",
          "shell.execute_reply.started": "2021-07-10T10:47:40.710753Z",
          "shell.execute_reply": "2021-07-10T10:47:40.743684Z"
        },
        "trusted": true,
        "colab": {
          "base_uri": "https://localhost:8080/",
          "height": 206
        },
        "id": "xuuDia7giMid",
        "outputId": "80132fb8-015c-417b-fb8d-0a0e0e6a35ed"
      },
      "execution_count": 10,
      "outputs": [
        {
          "output_type": "execute_result",
          "data": {
            "text/plain": [
              "       textID                                               text  \\\n",
              "0  cb774db0d1                I`d have responded, if I were going   \n",
              "1  549e992a42      Sooo SAD I will miss you here in San Diego!!!   \n",
              "2  088c60f138                          my boss is bullying me...   \n",
              "3  9642c003ef                     what interview! leave me alone   \n",
              "4  358bd9e861   Sons of ****, why couldn`t they put them on t...   \n",
              "\n",
              "                         selected_text  sentiment  \n",
              "0  I`d have responded, if I were going          1  \n",
              "1                             Sooo SAD          0  \n",
              "2                          bullying me          0  \n",
              "3                       leave me alone          0  \n",
              "4                        Sons of ****,          0  "
            ],
            "text/html": [
              "\n",
              "  <div id=\"df-fcc62e85-fafc-48ae-8d60-1b806d304308\" class=\"colab-df-container\">\n",
              "    <div>\n",
              "<style scoped>\n",
              "    .dataframe tbody tr th:only-of-type {\n",
              "        vertical-align: middle;\n",
              "    }\n",
              "\n",
              "    .dataframe tbody tr th {\n",
              "        vertical-align: top;\n",
              "    }\n",
              "\n",
              "    .dataframe thead th {\n",
              "        text-align: right;\n",
              "    }\n",
              "</style>\n",
              "<table border=\"1\" class=\"dataframe\">\n",
              "  <thead>\n",
              "    <tr style=\"text-align: right;\">\n",
              "      <th></th>\n",
              "      <th>textID</th>\n",
              "      <th>text</th>\n",
              "      <th>selected_text</th>\n",
              "      <th>sentiment</th>\n",
              "    </tr>\n",
              "  </thead>\n",
              "  <tbody>\n",
              "    <tr>\n",
              "      <th>0</th>\n",
              "      <td>cb774db0d1</td>\n",
              "      <td>I`d have responded, if I were going</td>\n",
              "      <td>I`d have responded, if I were going</td>\n",
              "      <td>1</td>\n",
              "    </tr>\n",
              "    <tr>\n",
              "      <th>1</th>\n",
              "      <td>549e992a42</td>\n",
              "      <td>Sooo SAD I will miss you here in San Diego!!!</td>\n",
              "      <td>Sooo SAD</td>\n",
              "      <td>0</td>\n",
              "    </tr>\n",
              "    <tr>\n",
              "      <th>2</th>\n",
              "      <td>088c60f138</td>\n",
              "      <td>my boss is bullying me...</td>\n",
              "      <td>bullying me</td>\n",
              "      <td>0</td>\n",
              "    </tr>\n",
              "    <tr>\n",
              "      <th>3</th>\n",
              "      <td>9642c003ef</td>\n",
              "      <td>what interview! leave me alone</td>\n",
              "      <td>leave me alone</td>\n",
              "      <td>0</td>\n",
              "    </tr>\n",
              "    <tr>\n",
              "      <th>4</th>\n",
              "      <td>358bd9e861</td>\n",
              "      <td>Sons of ****, why couldn`t they put them on t...</td>\n",
              "      <td>Sons of ****,</td>\n",
              "      <td>0</td>\n",
              "    </tr>\n",
              "  </tbody>\n",
              "</table>\n",
              "</div>\n",
              "    <div class=\"colab-df-buttons\">\n",
              "\n",
              "  <div class=\"colab-df-container\">\n",
              "    <button class=\"colab-df-convert\" onclick=\"convertToInteractive('df-fcc62e85-fafc-48ae-8d60-1b806d304308')\"\n",
              "            title=\"Convert this dataframe to an interactive table.\"\n",
              "            style=\"display:none;\">\n",
              "\n",
              "  <svg xmlns=\"http://www.w3.org/2000/svg\" height=\"24px\" viewBox=\"0 -960 960 960\">\n",
              "    <path d=\"M120-120v-720h720v720H120Zm60-500h600v-160H180v160Zm220 220h160v-160H400v160Zm0 220h160v-160H400v160ZM180-400h160v-160H180v160Zm440 0h160v-160H620v160ZM180-180h160v-160H180v160Zm440 0h160v-160H620v160Z\"/>\n",
              "  </svg>\n",
              "    </button>\n",
              "\n",
              "  <style>\n",
              "    .colab-df-container {\n",
              "      display:flex;\n",
              "      gap: 12px;\n",
              "    }\n",
              "\n",
              "    .colab-df-convert {\n",
              "      background-color: #E8F0FE;\n",
              "      border: none;\n",
              "      border-radius: 50%;\n",
              "      cursor: pointer;\n",
              "      display: none;\n",
              "      fill: #1967D2;\n",
              "      height: 32px;\n",
              "      padding: 0 0 0 0;\n",
              "      width: 32px;\n",
              "    }\n",
              "\n",
              "    .colab-df-convert:hover {\n",
              "      background-color: #E2EBFA;\n",
              "      box-shadow: 0px 1px 2px rgba(60, 64, 67, 0.3), 0px 1px 3px 1px rgba(60, 64, 67, 0.15);\n",
              "      fill: #174EA6;\n",
              "    }\n",
              "\n",
              "    .colab-df-buttons div {\n",
              "      margin-bottom: 4px;\n",
              "    }\n",
              "\n",
              "    [theme=dark] .colab-df-convert {\n",
              "      background-color: #3B4455;\n",
              "      fill: #D2E3FC;\n",
              "    }\n",
              "\n",
              "    [theme=dark] .colab-df-convert:hover {\n",
              "      background-color: #434B5C;\n",
              "      box-shadow: 0px 1px 3px 1px rgba(0, 0, 0, 0.15);\n",
              "      filter: drop-shadow(0px 1px 2px rgba(0, 0, 0, 0.3));\n",
              "      fill: #FFFFFF;\n",
              "    }\n",
              "  </style>\n",
              "\n",
              "    <script>\n",
              "      const buttonEl =\n",
              "        document.querySelector('#df-fcc62e85-fafc-48ae-8d60-1b806d304308 button.colab-df-convert');\n",
              "      buttonEl.style.display =\n",
              "        google.colab.kernel.accessAllowed ? 'block' : 'none';\n",
              "\n",
              "      async function convertToInteractive(key) {\n",
              "        const element = document.querySelector('#df-fcc62e85-fafc-48ae-8d60-1b806d304308');\n",
              "        const dataTable =\n",
              "          await google.colab.kernel.invokeFunction('convertToInteractive',\n",
              "                                                    [key], {});\n",
              "        if (!dataTable) return;\n",
              "\n",
              "        const docLinkHtml = 'Like what you see? Visit the ' +\n",
              "          '<a target=\"_blank\" href=https://colab.research.google.com/notebooks/data_table.ipynb>data table notebook</a>'\n",
              "          + ' to learn more about interactive tables.';\n",
              "        element.innerHTML = '';\n",
              "        dataTable['output_type'] = 'display_data';\n",
              "        await google.colab.output.renderOutput(dataTable, element);\n",
              "        const docLink = document.createElement('div');\n",
              "        docLink.innerHTML = docLinkHtml;\n",
              "        element.appendChild(docLink);\n",
              "      }\n",
              "    </script>\n",
              "  </div>\n",
              "\n",
              "\n",
              "<div id=\"df-10245387-fdb0-4955-a2a2-9b360becb145\">\n",
              "  <button class=\"colab-df-quickchart\" onclick=\"quickchart('df-10245387-fdb0-4955-a2a2-9b360becb145')\"\n",
              "            title=\"Suggest charts\"\n",
              "            style=\"display:none;\">\n",
              "\n",
              "<svg xmlns=\"http://www.w3.org/2000/svg\" height=\"24px\"viewBox=\"0 0 24 24\"\n",
              "     width=\"24px\">\n",
              "    <g>\n",
              "        <path d=\"M19 3H5c-1.1 0-2 .9-2 2v14c0 1.1.9 2 2 2h14c1.1 0 2-.9 2-2V5c0-1.1-.9-2-2-2zM9 17H7v-7h2v7zm4 0h-2V7h2v10zm4 0h-2v-4h2v4z\"/>\n",
              "    </g>\n",
              "</svg>\n",
              "  </button>\n",
              "\n",
              "<style>\n",
              "  .colab-df-quickchart {\n",
              "      --bg-color: #E8F0FE;\n",
              "      --fill-color: #1967D2;\n",
              "      --hover-bg-color: #E2EBFA;\n",
              "      --hover-fill-color: #174EA6;\n",
              "      --disabled-fill-color: #AAA;\n",
              "      --disabled-bg-color: #DDD;\n",
              "  }\n",
              "\n",
              "  [theme=dark] .colab-df-quickchart {\n",
              "      --bg-color: #3B4455;\n",
              "      --fill-color: #D2E3FC;\n",
              "      --hover-bg-color: #434B5C;\n",
              "      --hover-fill-color: #FFFFFF;\n",
              "      --disabled-bg-color: #3B4455;\n",
              "      --disabled-fill-color: #666;\n",
              "  }\n",
              "\n",
              "  .colab-df-quickchart {\n",
              "    background-color: var(--bg-color);\n",
              "    border: none;\n",
              "    border-radius: 50%;\n",
              "    cursor: pointer;\n",
              "    display: none;\n",
              "    fill: var(--fill-color);\n",
              "    height: 32px;\n",
              "    padding: 0;\n",
              "    width: 32px;\n",
              "  }\n",
              "\n",
              "  .colab-df-quickchart:hover {\n",
              "    background-color: var(--hover-bg-color);\n",
              "    box-shadow: 0 1px 2px rgba(60, 64, 67, 0.3), 0 1px 3px 1px rgba(60, 64, 67, 0.15);\n",
              "    fill: var(--button-hover-fill-color);\n",
              "  }\n",
              "\n",
              "  .colab-df-quickchart-complete:disabled,\n",
              "  .colab-df-quickchart-complete:disabled:hover {\n",
              "    background-color: var(--disabled-bg-color);\n",
              "    fill: var(--disabled-fill-color);\n",
              "    box-shadow: none;\n",
              "  }\n",
              "\n",
              "  .colab-df-spinner {\n",
              "    border: 2px solid var(--fill-color);\n",
              "    border-color: transparent;\n",
              "    border-bottom-color: var(--fill-color);\n",
              "    animation:\n",
              "      spin 1s steps(1) infinite;\n",
              "  }\n",
              "\n",
              "  @keyframes spin {\n",
              "    0% {\n",
              "      border-color: transparent;\n",
              "      border-bottom-color: var(--fill-color);\n",
              "      border-left-color: var(--fill-color);\n",
              "    }\n",
              "    20% {\n",
              "      border-color: transparent;\n",
              "      border-left-color: var(--fill-color);\n",
              "      border-top-color: var(--fill-color);\n",
              "    }\n",
              "    30% {\n",
              "      border-color: transparent;\n",
              "      border-left-color: var(--fill-color);\n",
              "      border-top-color: var(--fill-color);\n",
              "      border-right-color: var(--fill-color);\n",
              "    }\n",
              "    40% {\n",
              "      border-color: transparent;\n",
              "      border-right-color: var(--fill-color);\n",
              "      border-top-color: var(--fill-color);\n",
              "    }\n",
              "    60% {\n",
              "      border-color: transparent;\n",
              "      border-right-color: var(--fill-color);\n",
              "    }\n",
              "    80% {\n",
              "      border-color: transparent;\n",
              "      border-right-color: var(--fill-color);\n",
              "      border-bottom-color: var(--fill-color);\n",
              "    }\n",
              "    90% {\n",
              "      border-color: transparent;\n",
              "      border-bottom-color: var(--fill-color);\n",
              "    }\n",
              "  }\n",
              "</style>\n",
              "\n",
              "  <script>\n",
              "    async function quickchart(key) {\n",
              "      const quickchartButtonEl =\n",
              "        document.querySelector('#' + key + ' button');\n",
              "      quickchartButtonEl.disabled = true;  // To prevent multiple clicks.\n",
              "      quickchartButtonEl.classList.add('colab-df-spinner');\n",
              "      try {\n",
              "        const charts = await google.colab.kernel.invokeFunction(\n",
              "            'suggestCharts', [key], {});\n",
              "      } catch (error) {\n",
              "        console.error('Error during call to suggestCharts:', error);\n",
              "      }\n",
              "      quickchartButtonEl.classList.remove('colab-df-spinner');\n",
              "      quickchartButtonEl.classList.add('colab-df-quickchart-complete');\n",
              "    }\n",
              "    (() => {\n",
              "      let quickchartButtonEl =\n",
              "        document.querySelector('#df-10245387-fdb0-4955-a2a2-9b360becb145 button');\n",
              "      quickchartButtonEl.style.display =\n",
              "        google.colab.kernel.accessAllowed ? 'block' : 'none';\n",
              "    })();\n",
              "  </script>\n",
              "</div>\n",
              "    </div>\n",
              "  </div>\n"
            ]
          },
          "metadata": {},
          "execution_count": 10
        }
      ]
    },
    {
      "cell_type": "markdown",
      "source": [
        "#### Text - Preprocess"
      ],
      "metadata": {
        "id": "-x-fbfy1iMid"
      }
    },
    {
      "cell_type": "markdown",
      "source": [
        "Created a decontracted function which replace short hand word into there actual parts\n",
        "\n"
      ],
      "metadata": {
        "id": "Wj144qkDl8Gc"
      }
    },
    {
      "cell_type": "code",
      "source": [
        "def decontracted(phrase):\n",
        "    # specific\n",
        "    phrase = re.sub(r\"won't\", \"will not\", phrase)\n",
        "    phrase = re.sub(r\"can\\'t\", \"can not\", phrase)\n",
        "\n",
        "    # general\n",
        "    phrase = re.sub(r\"n\\'t\", \" not\", phrase)\n",
        "    phrase = re.sub(r\"'re\", \" are\", phrase)\n",
        "    phrase = re.sub(r\"\\'s\", \" is\", phrase)\n",
        "    phrase = re.sub(r\"\\'d\", \" would\", phrase)\n",
        "    phrase = re.sub(r\"\\'ll\", \" will\", phrase)\n",
        "    phrase = re.sub(r\"\\'t\", \" not\", phrase)\n",
        "    phrase = re.sub(r\"\\'ve\", \" have\", phrase)\n",
        "    phrase = re.sub(r\"\\'m\", \" am\", phrase)\n",
        "    return phrase"
      ],
      "metadata": {
        "id": "cJfh8hdil7QP"
      },
      "execution_count": 11,
      "outputs": []
    },
    {
      "cell_type": "code",
      "source": [
        "stopwords= ['i', 'me', 'my', 'myself', 'we', 'our', 'ours', 'ourselves', 'you', \"you're\", \"you've\",\n",
        "            \"you'll\", \"you'd\", 'your', 'yours', 'yourself', 'yourselves', 'he', 'him', 'his', 'himself',\n",
        "            'she', \"she's\", 'her', 'hers', 'herself', 'it', \"it's\", 'its', 'itself', 'they', 'them', 'their',\n",
        "            'theirs', 'themselves', 'what', 'which', 'who', 'whom', 'this', 'that', \"that'll\", 'these', 'those',\n",
        "            'am', 'is', 'are', 'was', 'were', 'be', 'been', 'being', 'have', 'has', 'had', 'having', 'do', 'does',\n",
        "            'did', 'doing', 'a', 'an', 'the', 'and', 'but', 'if', 'or', 'because', 'as', 'until', 'while', 'of',\n",
        "            'at', 'by', 'for', 'with', 'about', 'against', 'between', 'into', 'through', 'during', 'before', 'after',\n",
        "            'above', 'below', 'to', 'from', 'up', 'down', 'in', 'out', 'on', 'off', 'over', 'under', 'again', 'further',\n",
        "            'then', 'once', 'here', 'there', 'when', 'where', 'why', 'how', 'all', 'any', 'both', 'each', 'few', 'more',\n",
        "            'most', 'other', 'some', 'such', 'only', 'own', 'same', 'so', 'than', 'too', 'very',\n",
        "            's', 't', 'can', 'will', 'just', 'don', \"don't\", 'should', \"should've\", 'now', 'd', 'll', 'm', 'o', 're',\n",
        "            've', 'y', 'ain', 'aren', \"aren't\", 'couldn', \"couldn't\", 'didn', \"didn't\", 'doesn', \"doesn't\", 'hadn',\n",
        "            \"hadn't\", 'hasn', \"hasn't\", 'haven', \"haven't\", 'isn', \"isn't\", 'ma', 'mightn', \"mightn't\", 'mustn',\n",
        "            \"mustn't\", 'needn', \"needn't\", 'shan', \"shan't\", 'shouldn', \"shouldn't\", 'wasn', \"wasn't\", 'weren', \"weren't\",\n",
        "            'won', \"won't\", 'wouldn', \"wouldn't\"]\n",
        "\n",
        "from tqdm import tqdm\n",
        "def preprocess_text(text_data):\n",
        "    preprocessed_text = []\n",
        "    for sentence in tqdm(text_data):\n",
        "        sent = decontracted(sentence)\n",
        "        sent = sent.replace('\\\\r', ' ')\n",
        "        sent = sent.replace('\\\\n', ' ')\n",
        "        sent = sent.replace('\\\\\"', ' ')\n",
        "        sent = re.sub('[^A-Za-z0-9]+', ' ', sent)\n",
        "        sent = ' '.join(e for e in sent.split() if e.lower() not in stopwords)\n",
        "        preprocessed_text.append(sent.lower().strip())\n",
        "    return preprocessed_text\n",
        "\n",
        "X_processed = preprocess_text(data['text'])"
      ],
      "metadata": {
        "execution": {
          "iopub.status.busy": "2021-07-10T10:47:41.417605Z",
          "iopub.execute_input": "2021-07-10T10:47:41.418006Z",
          "iopub.status.idle": "2021-07-10T10:47:43.122906Z",
          "shell.execute_reply.started": "2021-07-10T10:47:41.417973Z",
          "shell.execute_reply": "2021-07-10T10:47:43.121346Z"
        },
        "trusted": true,
        "colab": {
          "base_uri": "https://localhost:8080/"
        },
        "id": "eAjoUifsiMie",
        "outputId": "e9272cd2-9458-4d41-dc2a-f029ce62530e"
      },
      "execution_count": 14,
      "outputs": [
        {
          "output_type": "stream",
          "name": "stderr",
          "text": [
            "100%|██████████| 27480/27480 [00:02<00:00, 10458.89it/s]\n"
          ]
        }
      ]
    },
    {
      "cell_type": "markdown",
      "source": [
        "Add the preprocesses text into the data a new column"
      ],
      "metadata": {
        "id": "If7Eu8xYoRUi"
      }
    },
    {
      "cell_type": "code",
      "source": [
        "data['preprocessed_text'] = X_processed\n",
        "data.head(5)"
      ],
      "metadata": {
        "execution": {
          "iopub.status.busy": "2021-07-10T10:47:43.125709Z",
          "iopub.execute_input": "2021-07-10T10:47:43.126181Z",
          "iopub.status.idle": "2021-07-10T10:47:43.148580Z",
          "shell.execute_reply.started": "2021-07-10T10:47:43.126134Z",
          "shell.execute_reply": "2021-07-10T10:47:43.147200Z"
        },
        "trusted": true,
        "colab": {
          "base_uri": "https://localhost:8080/",
          "height": 258
        },
        "id": "hfXfOd3yiMif",
        "outputId": "562a5929-036c-4cf2-8b02-cb013b80ec65"
      },
      "execution_count": 15,
      "outputs": [
        {
          "output_type": "execute_result",
          "data": {
            "text/plain": [
              "       textID                                               text  \\\n",
              "0  cb774db0d1                I`d have responded, if I were going   \n",
              "1  549e992a42      Sooo SAD I will miss you here in San Diego!!!   \n",
              "2  088c60f138                          my boss is bullying me...   \n",
              "3  9642c003ef                     what interview! leave me alone   \n",
              "4  358bd9e861   Sons of ****, why couldn`t they put them on t...   \n",
              "\n",
              "                         selected_text  sentiment  \\\n",
              "0  I`d have responded, if I were going          1   \n",
              "1                             Sooo SAD          0   \n",
              "2                          bullying me          0   \n",
              "3                       leave me alone          0   \n",
              "4                        Sons of ****,          0   \n",
              "\n",
              "                  preprocessed_text  \n",
              "0                   responded going  \n",
              "1           sooo sad miss san diego  \n",
              "2                     boss bullying  \n",
              "3             interview leave alone  \n",
              "4  sons put releases already bought  "
            ],
            "text/html": [
              "\n",
              "  <div id=\"df-21b95b94-3ff2-4dea-9148-4045a7ba11f9\" class=\"colab-df-container\">\n",
              "    <div>\n",
              "<style scoped>\n",
              "    .dataframe tbody tr th:only-of-type {\n",
              "        vertical-align: middle;\n",
              "    }\n",
              "\n",
              "    .dataframe tbody tr th {\n",
              "        vertical-align: top;\n",
              "    }\n",
              "\n",
              "    .dataframe thead th {\n",
              "        text-align: right;\n",
              "    }\n",
              "</style>\n",
              "<table border=\"1\" class=\"dataframe\">\n",
              "  <thead>\n",
              "    <tr style=\"text-align: right;\">\n",
              "      <th></th>\n",
              "      <th>textID</th>\n",
              "      <th>text</th>\n",
              "      <th>selected_text</th>\n",
              "      <th>sentiment</th>\n",
              "      <th>preprocessed_text</th>\n",
              "    </tr>\n",
              "  </thead>\n",
              "  <tbody>\n",
              "    <tr>\n",
              "      <th>0</th>\n",
              "      <td>cb774db0d1</td>\n",
              "      <td>I`d have responded, if I were going</td>\n",
              "      <td>I`d have responded, if I were going</td>\n",
              "      <td>1</td>\n",
              "      <td>responded going</td>\n",
              "    </tr>\n",
              "    <tr>\n",
              "      <th>1</th>\n",
              "      <td>549e992a42</td>\n",
              "      <td>Sooo SAD I will miss you here in San Diego!!!</td>\n",
              "      <td>Sooo SAD</td>\n",
              "      <td>0</td>\n",
              "      <td>sooo sad miss san diego</td>\n",
              "    </tr>\n",
              "    <tr>\n",
              "      <th>2</th>\n",
              "      <td>088c60f138</td>\n",
              "      <td>my boss is bullying me...</td>\n",
              "      <td>bullying me</td>\n",
              "      <td>0</td>\n",
              "      <td>boss bullying</td>\n",
              "    </tr>\n",
              "    <tr>\n",
              "      <th>3</th>\n",
              "      <td>9642c003ef</td>\n",
              "      <td>what interview! leave me alone</td>\n",
              "      <td>leave me alone</td>\n",
              "      <td>0</td>\n",
              "      <td>interview leave alone</td>\n",
              "    </tr>\n",
              "    <tr>\n",
              "      <th>4</th>\n",
              "      <td>358bd9e861</td>\n",
              "      <td>Sons of ****, why couldn`t they put them on t...</td>\n",
              "      <td>Sons of ****,</td>\n",
              "      <td>0</td>\n",
              "      <td>sons put releases already bought</td>\n",
              "    </tr>\n",
              "  </tbody>\n",
              "</table>\n",
              "</div>\n",
              "    <div class=\"colab-df-buttons\">\n",
              "\n",
              "  <div class=\"colab-df-container\">\n",
              "    <button class=\"colab-df-convert\" onclick=\"convertToInteractive('df-21b95b94-3ff2-4dea-9148-4045a7ba11f9')\"\n",
              "            title=\"Convert this dataframe to an interactive table.\"\n",
              "            style=\"display:none;\">\n",
              "\n",
              "  <svg xmlns=\"http://www.w3.org/2000/svg\" height=\"24px\" viewBox=\"0 -960 960 960\">\n",
              "    <path d=\"M120-120v-720h720v720H120Zm60-500h600v-160H180v160Zm220 220h160v-160H400v160Zm0 220h160v-160H400v160ZM180-400h160v-160H180v160Zm440 0h160v-160H620v160ZM180-180h160v-160H180v160Zm440 0h160v-160H620v160Z\"/>\n",
              "  </svg>\n",
              "    </button>\n",
              "\n",
              "  <style>\n",
              "    .colab-df-container {\n",
              "      display:flex;\n",
              "      gap: 12px;\n",
              "    }\n",
              "\n",
              "    .colab-df-convert {\n",
              "      background-color: #E8F0FE;\n",
              "      border: none;\n",
              "      border-radius: 50%;\n",
              "      cursor: pointer;\n",
              "      display: none;\n",
              "      fill: #1967D2;\n",
              "      height: 32px;\n",
              "      padding: 0 0 0 0;\n",
              "      width: 32px;\n",
              "    }\n",
              "\n",
              "    .colab-df-convert:hover {\n",
              "      background-color: #E2EBFA;\n",
              "      box-shadow: 0px 1px 2px rgba(60, 64, 67, 0.3), 0px 1px 3px 1px rgba(60, 64, 67, 0.15);\n",
              "      fill: #174EA6;\n",
              "    }\n",
              "\n",
              "    .colab-df-buttons div {\n",
              "      margin-bottom: 4px;\n",
              "    }\n",
              "\n",
              "    [theme=dark] .colab-df-convert {\n",
              "      background-color: #3B4455;\n",
              "      fill: #D2E3FC;\n",
              "    }\n",
              "\n",
              "    [theme=dark] .colab-df-convert:hover {\n",
              "      background-color: #434B5C;\n",
              "      box-shadow: 0px 1px 3px 1px rgba(0, 0, 0, 0.15);\n",
              "      filter: drop-shadow(0px 1px 2px rgba(0, 0, 0, 0.3));\n",
              "      fill: #FFFFFF;\n",
              "    }\n",
              "  </style>\n",
              "\n",
              "    <script>\n",
              "      const buttonEl =\n",
              "        document.querySelector('#df-21b95b94-3ff2-4dea-9148-4045a7ba11f9 button.colab-df-convert');\n",
              "      buttonEl.style.display =\n",
              "        google.colab.kernel.accessAllowed ? 'block' : 'none';\n",
              "\n",
              "      async function convertToInteractive(key) {\n",
              "        const element = document.querySelector('#df-21b95b94-3ff2-4dea-9148-4045a7ba11f9');\n",
              "        const dataTable =\n",
              "          await google.colab.kernel.invokeFunction('convertToInteractive',\n",
              "                                                    [key], {});\n",
              "        if (!dataTable) return;\n",
              "\n",
              "        const docLinkHtml = 'Like what you see? Visit the ' +\n",
              "          '<a target=\"_blank\" href=https://colab.research.google.com/notebooks/data_table.ipynb>data table notebook</a>'\n",
              "          + ' to learn more about interactive tables.';\n",
              "        element.innerHTML = '';\n",
              "        dataTable['output_type'] = 'display_data';\n",
              "        await google.colab.output.renderOutput(dataTable, element);\n",
              "        const docLink = document.createElement('div');\n",
              "        docLink.innerHTML = docLinkHtml;\n",
              "        element.appendChild(docLink);\n",
              "      }\n",
              "    </script>\n",
              "  </div>\n",
              "\n",
              "\n",
              "<div id=\"df-44bfb42b-98a6-4436-b560-ebaf901bd922\">\n",
              "  <button class=\"colab-df-quickchart\" onclick=\"quickchart('df-44bfb42b-98a6-4436-b560-ebaf901bd922')\"\n",
              "            title=\"Suggest charts\"\n",
              "            style=\"display:none;\">\n",
              "\n",
              "<svg xmlns=\"http://www.w3.org/2000/svg\" height=\"24px\"viewBox=\"0 0 24 24\"\n",
              "     width=\"24px\">\n",
              "    <g>\n",
              "        <path d=\"M19 3H5c-1.1 0-2 .9-2 2v14c0 1.1.9 2 2 2h14c1.1 0 2-.9 2-2V5c0-1.1-.9-2-2-2zM9 17H7v-7h2v7zm4 0h-2V7h2v10zm4 0h-2v-4h2v4z\"/>\n",
              "    </g>\n",
              "</svg>\n",
              "  </button>\n",
              "\n",
              "<style>\n",
              "  .colab-df-quickchart {\n",
              "      --bg-color: #E8F0FE;\n",
              "      --fill-color: #1967D2;\n",
              "      --hover-bg-color: #E2EBFA;\n",
              "      --hover-fill-color: #174EA6;\n",
              "      --disabled-fill-color: #AAA;\n",
              "      --disabled-bg-color: #DDD;\n",
              "  }\n",
              "\n",
              "  [theme=dark] .colab-df-quickchart {\n",
              "      --bg-color: #3B4455;\n",
              "      --fill-color: #D2E3FC;\n",
              "      --hover-bg-color: #434B5C;\n",
              "      --hover-fill-color: #FFFFFF;\n",
              "      --disabled-bg-color: #3B4455;\n",
              "      --disabled-fill-color: #666;\n",
              "  }\n",
              "\n",
              "  .colab-df-quickchart {\n",
              "    background-color: var(--bg-color);\n",
              "    border: none;\n",
              "    border-radius: 50%;\n",
              "    cursor: pointer;\n",
              "    display: none;\n",
              "    fill: var(--fill-color);\n",
              "    height: 32px;\n",
              "    padding: 0;\n",
              "    width: 32px;\n",
              "  }\n",
              "\n",
              "  .colab-df-quickchart:hover {\n",
              "    background-color: var(--hover-bg-color);\n",
              "    box-shadow: 0 1px 2px rgba(60, 64, 67, 0.3), 0 1px 3px 1px rgba(60, 64, 67, 0.15);\n",
              "    fill: var(--button-hover-fill-color);\n",
              "  }\n",
              "\n",
              "  .colab-df-quickchart-complete:disabled,\n",
              "  .colab-df-quickchart-complete:disabled:hover {\n",
              "    background-color: var(--disabled-bg-color);\n",
              "    fill: var(--disabled-fill-color);\n",
              "    box-shadow: none;\n",
              "  }\n",
              "\n",
              "  .colab-df-spinner {\n",
              "    border: 2px solid var(--fill-color);\n",
              "    border-color: transparent;\n",
              "    border-bottom-color: var(--fill-color);\n",
              "    animation:\n",
              "      spin 1s steps(1) infinite;\n",
              "  }\n",
              "\n",
              "  @keyframes spin {\n",
              "    0% {\n",
              "      border-color: transparent;\n",
              "      border-bottom-color: var(--fill-color);\n",
              "      border-left-color: var(--fill-color);\n",
              "    }\n",
              "    20% {\n",
              "      border-color: transparent;\n",
              "      border-left-color: var(--fill-color);\n",
              "      border-top-color: var(--fill-color);\n",
              "    }\n",
              "    30% {\n",
              "      border-color: transparent;\n",
              "      border-left-color: var(--fill-color);\n",
              "      border-top-color: var(--fill-color);\n",
              "      border-right-color: var(--fill-color);\n",
              "    }\n",
              "    40% {\n",
              "      border-color: transparent;\n",
              "      border-right-color: var(--fill-color);\n",
              "      border-top-color: var(--fill-color);\n",
              "    }\n",
              "    60% {\n",
              "      border-color: transparent;\n",
              "      border-right-color: var(--fill-color);\n",
              "    }\n",
              "    80% {\n",
              "      border-color: transparent;\n",
              "      border-right-color: var(--fill-color);\n",
              "      border-bottom-color: var(--fill-color);\n",
              "    }\n",
              "    90% {\n",
              "      border-color: transparent;\n",
              "      border-bottom-color: var(--fill-color);\n",
              "    }\n",
              "  }\n",
              "</style>\n",
              "\n",
              "  <script>\n",
              "    async function quickchart(key) {\n",
              "      const quickchartButtonEl =\n",
              "        document.querySelector('#' + key + ' button');\n",
              "      quickchartButtonEl.disabled = true;  // To prevent multiple clicks.\n",
              "      quickchartButtonEl.classList.add('colab-df-spinner');\n",
              "      try {\n",
              "        const charts = await google.colab.kernel.invokeFunction(\n",
              "            'suggestCharts', [key], {});\n",
              "      } catch (error) {\n",
              "        console.error('Error during call to suggestCharts:', error);\n",
              "      }\n",
              "      quickchartButtonEl.classList.remove('colab-df-spinner');\n",
              "      quickchartButtonEl.classList.add('colab-df-quickchart-complete');\n",
              "    }\n",
              "    (() => {\n",
              "      let quickchartButtonEl =\n",
              "        document.querySelector('#df-44bfb42b-98a6-4436-b560-ebaf901bd922 button');\n",
              "      quickchartButtonEl.style.display =\n",
              "        google.colab.kernel.accessAllowed ? 'block' : 'none';\n",
              "    })();\n",
              "  </script>\n",
              "</div>\n",
              "    </div>\n",
              "  </div>\n"
            ]
          },
          "metadata": {},
          "execution_count": 15
        }
      ]
    },
    {
      "cell_type": "markdown",
      "source": [
        "Removing the text data having sequences less than 4"
      ],
      "metadata": {
        "id": "xfiBkKBlp9sG"
      }
    },
    {
      "cell_type": "code",
      "source": [
        "# removing sentences of length less than 4\n",
        "data_processed = data[data['preprocessed_text'].str.len()>3]\n",
        "print('The shape of data :', data_processed.shape)\n",
        "\n",
        "X = data_processed[\"preprocessed_text\"]\n",
        "Y = data_processed[\"sentiment\"]\n",
        "\n",
        "print('No. of datapoints in X', len(X))\n",
        "print('No of labels in Y', len(X))"
      ],
      "metadata": {
        "execution": {
          "iopub.status.busy": "2021-07-10T10:47:43.150791Z",
          "iopub.execute_input": "2021-07-10T10:47:43.151449Z",
          "iopub.status.idle": "2021-07-10T10:47:43.191073Z",
          "shell.execute_reply.started": "2021-07-10T10:47:43.151399Z",
          "shell.execute_reply": "2021-07-10T10:47:43.189689Z"
        },
        "trusted": true,
        "colab": {
          "base_uri": "https://localhost:8080/"
        },
        "id": "Pxss1rbjiMif",
        "outputId": "e0c55780-e1d2-45d8-f95c-9f057225f039"
      },
      "execution_count": 16,
      "outputs": [
        {
          "output_type": "stream",
          "name": "stdout",
          "text": [
            "The shape of data : (27297, 5)\n",
            "No. of datapoints in X 27297\n",
            "No of labels in Y 27297\n"
          ]
        }
      ]
    },
    {
      "cell_type": "markdown",
      "source": [
        "Selecting maximum sequences lenght and remove the text having length greater than that maximum sequence"
      ],
      "metadata": {
        "id": "LuCEnjDYiMig"
      }
    },
    {
      "cell_type": "code",
      "source": [
        "# plot doc word length\n",
        "sent_len = X.apply(lambda x:len(str(x).split(' ')))\n",
        "plt.bar(range(27297), sent_len.sort_values().values)\n",
        "plt.show()"
      ],
      "metadata": {
        "execution": {
          "iopub.status.busy": "2021-07-10T10:47:43.192972Z",
          "iopub.execute_input": "2021-07-10T10:47:43.193586Z",
          "iopub.status.idle": "2021-07-10T10:48:54.687842Z",
          "shell.execute_reply.started": "2021-07-10T10:47:43.193513Z",
          "shell.execute_reply": "2021-07-10T10:48:54.686699Z"
        },
        "trusted": true,
        "colab": {
          "base_uri": "https://localhost:8080/",
          "height": 430
        },
        "id": "eIEm_7BniMig",
        "outputId": "ec5e233b-90e6-49da-f6ba-8247676cc588"
      },
      "execution_count": 18,
      "outputs": [
        {
          "output_type": "display_data",
          "data": {
            "text/plain": [
              "<Figure size 640x480 with 1 Axes>"
            ],
            "image/png": "[encoded data removed]"
          },
          "metadata": {}
        }
      ]
    },
    {
      "cell_type": "code",
      "source": [
        "for i in range(1, 50):\n",
        "    print(f\"{95+i/10}th percentile length: \", np.percentile(sent_len.sort_values().values, 95+i/10))"
      ],
      "metadata": {
        "execution": {
          "iopub.status.busy": "2021-07-10T10:48:54.693778Z",
          "iopub.execute_input": "2021-07-10T10:48:54.694134Z",
          "iopub.status.idle": "2021-07-10T10:48:54.858168Z",
          "shell.execute_reply.started": "2021-07-10T10:48:54.694100Z",
          "shell.execute_reply": "2021-07-10T10:48:54.857033Z"
        },
        "trusted": true,
        "colab": {
          "base_uri": "https://localhost:8080/"
        },
        "id": "txaEdRMXiMig",
        "outputId": "e9b3bf91-a984-453f-feab-1ce0ea064d2f"
      },
      "execution_count": 19,
      "outputs": [
        {
          "output_type": "stream",
          "name": "stdout",
          "text": [
            "95.1th percentile length:  15.0\n",
            "95.2th percentile length:  15.0\n",
            "95.3th percentile length:  15.0\n",
            "95.4th percentile length:  15.0\n",
            "95.5th percentile length:  15.0\n",
            "95.6th percentile length:  15.0\n",
            "95.7th percentile length:  15.0\n",
            "95.8th percentile length:  15.0\n",
            "95.9th percentile length:  15.0\n",
            "96.0th percentile length:  15.0\n",
            "96.1th percentile length:  15.0\n",
            "96.2th percentile length:  15.0\n",
            "96.3th percentile length:  15.0\n",
            "96.4th percentile length:  15.0\n",
            "96.5th percentile length:  15.0\n",
            "96.6th percentile length:  15.0\n",
            "96.7th percentile length:  15.0\n",
            "96.8th percentile length:  15.0\n",
            "96.9th percentile length:  16.0\n",
            "97.0th percentile length:  16.0\n",
            "97.1th percentile length:  16.0\n",
            "97.2th percentile length:  16.0\n",
            "97.3th percentile length:  16.0\n",
            "97.4th percentile length:  16.0\n",
            "97.5th percentile length:  16.0\n",
            "97.6th percentile length:  16.0\n",
            "97.7th percentile length:  16.0\n",
            "97.8th percentile length:  16.0\n",
            "97.9th percentile length:  16.0\n",
            "98.0th percentile length:  16.0\n",
            "98.1th percentile length:  16.0\n",
            "98.2th percentile length:  16.0\n",
            "98.3th percentile length:  17.0\n",
            "98.4th percentile length:  17.0\n",
            "98.5th percentile length:  17.0\n",
            "98.6th percentile length:  17.0\n",
            "98.7th percentile length:  17.0\n",
            "98.8th percentile length:  17.0\n",
            "98.9th percentile length:  17.0\n",
            "99.0th percentile length:  17.0\n",
            "99.1th percentile length:  17.0\n",
            "99.2th percentile length:  18.0\n",
            "99.3th percentile length:  18.0\n",
            "99.4th percentile length:  18.0\n",
            "99.5th percentile length:  18.0\n",
            "99.6th percentile length:  19.0\n",
            "99.7th percentile length:  19.0\n",
            "99.8th percentile length:  20.0\n",
            "99.9th percentile length:  20.704000000001543\n"
          ]
        }
      ]
    },
    {
      "cell_type": "markdown",
      "source": [
        "So here I am taking 20 as the maximum sequence length and truncate all the sequences greater than it."
      ],
      "metadata": {
        "id": "t6gKZDG6iMig"
      }
    },
    {
      "cell_type": "markdown",
      "source": [
        "### Tokenization and padding"
      ],
      "metadata": {
        "id": "Bz2wTFE-iMih"
      }
    },
    {
      "cell_type": "code",
      "source": [
        "# tokenize and pad senences\n",
        "from tensorflow.keras.preprocessing.text import Tokenizer\n",
        "t = Tokenizer()\n",
        "t.fit_on_texts(X.values)\n",
        "\n",
        "X = t.texts_to_sequences(data_processed['preprocessed_text'])    # sequence of words for each sentence according to their preference in dictationary\n",
        "X = pad_sequences(X, maxlen = 20)\n",
        "print(X)"
      ],
      "metadata": {
        "execution": {
          "iopub.status.busy": "2021-07-10T10:48:54.862877Z",
          "iopub.execute_input": "2021-07-10T10:48:54.863257Z",
          "iopub.status.idle": "2021-07-10T10:48:59.400388Z",
          "shell.execute_reply.started": "2021-07-10T10:48:54.863223Z",
          "shell.execute_reply": "2021-07-10T10:48:59.397814Z"
        },
        "trusted": true,
        "colab": {
          "base_uri": "https://localhost:8080/"
        },
        "id": "lacmq6bQiMih",
        "outputId": "8548a080-5d8c-48fa-aa29-65625199a6b0"
      },
      "execution_count": 20,
      "outputs": [
        {
          "output_type": "stream",
          "name": "stdout",
          "text": [
            "[[    0     0     0 ...     0 10254    12]\n",
            " [    0     0     0 ...    37  1338  2173]\n",
            " [    0     0     0 ...     0  1240 10255]\n",
            " ...\n",
            " [    0     0     0 ...   539   752  2720]\n",
            " [    0     0     0 ...     0     0   581]\n",
            " [    0     0     0 ...  2174   143   550]]\n"
          ]
        }
      ]
    },
    {
      "cell_type": "code",
      "source": [
        "# one hot encoding labels\n",
        "Y = to_categorical(Y, num_classes = 3)\n",
        "Y.shape"
      ],
      "metadata": {
        "execution": {
          "iopub.status.busy": "2021-07-10T10:48:59.402313Z",
          "iopub.execute_input": "2021-07-10T10:48:59.403112Z",
          "iopub.status.idle": "2021-07-10T10:48:59.422827Z",
          "shell.execute_reply.started": "2021-07-10T10:48:59.403057Z",
          "shell.execute_reply": "2021-07-10T10:48:59.421273Z"
        },
        "trusted": true,
        "colab": {
          "base_uri": "https://localhost:8080/"
        },
        "id": "5QJiHsuqiMih",
        "outputId": "a78707f3-8346-4efd-f314-c78fb1f97dee"
      },
      "execution_count": 21,
      "outputs": [
        {
          "output_type": "execute_result",
          "data": {
            "text/plain": [
              "(27297, 3)"
            ]
          },
          "metadata": {},
          "execution_count": 21
        }
      ]
    },
    {
      "cell_type": "code",
      "source": [
        "enbadding_dims = 128\n",
        "lstm_out = 300\n",
        "\n",
        "vocab_size = len(t.word_index) + 1\n",
        "print('Vacubalary size: ', vocab_size)"
      ],
      "metadata": {
        "execution": {
          "iopub.status.busy": "2021-07-10T10:48:59.425986Z",
          "iopub.execute_input": "2021-07-10T10:48:59.426719Z",
          "iopub.status.idle": "2021-07-10T10:48:59.435730Z",
          "shell.execute_reply.started": "2021-07-10T10:48:59.426653Z",
          "shell.execute_reply": "2021-07-10T10:48:59.433960Z"
        },
        "trusted": true,
        "colab": {
          "base_uri": "https://localhost:8080/"
        },
        "id": "FzyovOXJiMih",
        "outputId": "b52ef08e-5efd-4cbe-8770-cded481284f1"
      },
      "execution_count": 22,
      "outputs": [
        {
          "output_type": "stream",
          "name": "stdout",
          "text": [
            "Vacubalary size:  25783\n"
          ]
        }
      ]
    },
    {
      "cell_type": "markdown",
      "source": [
        "### LSTM Model + Keras Embedding"
      ],
      "metadata": {
        "id": "chcscMsoiMih"
      }
    },
    {
      "cell_type": "markdown",
      "source": [
        "#### Architechture"
      ],
      "metadata": {
        "id": "CqvDEkqfv5mx"
      }
    },
    {
      "cell_type": "code",
      "source": [
        "model = Sequential()\n",
        "model.add(Embedding(vocab_size, enbadding_dims,input_length = X.shape[1]))\n",
        "model.add(SpatialDropout1D(0.4))\n",
        "model.add(LSTM(lstm_out, dropout=0.2, recurrent_dropout=0.2, return_sequences = True))\n",
        "model.add(LSTM(400, dropout=0.2, recurrent_dropout=0.2))\n",
        "model.add(Dense(32, activation = \"relu\"))\n",
        "model.add(Dense(64, activation = \"relu\"))\n",
        "model.add(Dense(3,activation='sigmoid'))\n",
        "model.compile(loss = 'categorical_crossentropy', optimizer='adam',metrics = ['accuracy'])\n",
        "print(model.summary())"
      ],
      "metadata": {
        "execution": {
          "iopub.status.busy": "2021-07-10T10:48:59.439063Z",
          "iopub.execute_input": "2021-07-10T10:48:59.439674Z",
          "iopub.status.idle": "2021-07-10T10:49:00.381165Z",
          "shell.execute_reply.started": "2021-07-10T10:48:59.439626Z",
          "shell.execute_reply": "2021-07-10T10:49:00.379711Z"
        },
        "trusted": true,
        "colab": {
          "base_uri": "https://localhost:8080/"
        },
        "id": "PIhROOc_iMii",
        "outputId": "16589506-007e-4c18-c7c0-7f45f007f319"
      },
      "execution_count": 27,
      "outputs": [
        {
          "output_type": "stream",
          "name": "stdout",
          "text": [
            "Model: \"sequential_2\"\n",
            "_________________________________________________________________\n",
            " Layer (type)                Output Shape              Param #   \n",
            "=================================================================\n",
            " embedding_1 (Embedding)     (None, 20, 128)           3300224   \n",
            "                                                                 \n",
            " spatial_dropout1d_1 (Spati  (None, 20, 128)           0         \n",
            " alDropout1D)                                                    \n",
            "                                                                 \n",
            " lstm_2 (LSTM)               (None, 20, 300)           514800    \n",
            "                                                                 \n",
            " lstm_3 (LSTM)               (None, 400)               1121600   \n",
            "                                                                 \n",
            " dense (Dense)               (None, 32)                12832     \n",
            "                                                                 \n",
            " dense_1 (Dense)             (None, 64)                2112      \n",
            "                                                                 \n",
            " dense_2 (Dense)             (None, 3)                 195       \n",
            "                                                                 \n",
            "=================================================================\n",
            "Total params: 4951763 (18.89 MB)\n",
            "Trainable params: 4951763 (18.89 MB)\n",
            "Non-trainable params: 0 (0.00 Byte)\n",
            "_________________________________________________________________\n",
            "None\n"
          ]
        }
      ]
    },
    {
      "cell_type": "markdown",
      "source": [
        "#### Fitting the model"
      ],
      "metadata": {
        "id": "qh4XSIQ6iMii"
      }
    },
    {
      "cell_type": "code",
      "source": [
        "batch_size = 32\n",
        "H = model.fit(X, Y, epochs = 4, batch_size = batch_size, verbose = 1, validation_split = 0.2)"
      ],
      "metadata": {
        "execution": {
          "iopub.status.busy": "2021-07-10T10:49:00.384663Z",
          "iopub.execute_input": "2021-07-10T10:49:00.385080Z",
          "iopub.status.idle": "2021-07-10T11:02:13.516810Z",
          "shell.execute_reply.started": "2021-07-10T10:49:00.385042Z",
          "shell.execute_reply": "2021-07-10T11:02:13.515768Z"
        },
        "trusted": true,
        "colab": {
          "base_uri": "https://localhost:8080/"
        },
        "id": "d3eLw0XNiMii",
        "outputId": "e5f65513-08a6-403b-d367-862d8f4dc7c8"
      },
      "execution_count": 28,
      "outputs": [
        {
          "output_type": "stream",
          "name": "stdout",
          "text": [
            "Epoch 1/4\n",
            "683/683 [==============================] - 524s 753ms/step - loss: 0.8401 - accuracy: 0.6086 - val_loss: 0.6991 - val_accuracy: 0.7223\n",
            "Epoch 2/4\n",
            "683/683 [==============================] - 548s 801ms/step - loss: 0.5929 - accuracy: 0.7587 - val_loss: 0.6823 - val_accuracy: 0.7212\n",
            "Epoch 3/4\n",
            "683/683 [==============================] - 502s 736ms/step - loss: 0.4390 - accuracy: 0.8294 - val_loss: 0.7313 - val_accuracy: 0.7057\n",
            "Epoch 4/4\n",
            "683/683 [==============================] - 468s 686ms/step - loss: 0.3410 - accuracy: 0.8702 - val_loss: 0.8374 - val_accuracy: 0.7046\n"
          ]
        }
      ]
    },
    {
      "cell_type": "code",
      "source": [
        "import matplotlib.pyplot as plt\n",
        "\n",
        "# Plot of accuracy vs. epoch\n",
        "plt.subplot(1, 2, 1)  # 1 row, 2 columns, subplot 1\n",
        "plt.plot(range(1, 5), H.history['accuracy'], label='Training Accuracy')\n",
        "plt.plot(range(1, 5), H.history['val_accuracy'], label='Validation Accuracy')\n",
        "plt.title('Plot of Accuracy vs. Epoch')\n",
        "plt.xlabel('Epoch')\n",
        "plt.ylabel('Accuracy')\n",
        "plt.legend()\n",
        "\n",
        "# Plot of loss vs. epoch\n",
        "plt.subplot(1, 2, 2)  # 1 row, 2 columns, subplot 2\n",
        "plt.plot(range(1, 5), H.history['loss'], label='Training Loss')\n",
        "plt.plot(range(1, 5), H.history['val_loss'], label='Validation Loss')\n",
        "plt.title('Plot of Loss vs. Epoch')\n",
        "plt.xlabel('Epoch')\n",
        "plt.ylabel('Loss')\n",
        "plt.legend()\n",
        "\n",
        "# Adjust layout to prevent overlap\n",
        "plt.tight_layout()\n",
        "\n",
        "# Show the plots\n",
        "plt.show()\n"
      ],
      "metadata": {
        "execution": {
          "iopub.status.busy": "2021-07-10T11:02:13.522388Z",
          "iopub.execute_input": "2021-07-10T11:02:13.522749Z",
          "iopub.status.idle": "2021-07-10T11:02:13.888617Z",
          "shell.execute_reply.started": "2021-07-10T11:02:13.522720Z",
          "shell.execute_reply": "2021-07-10T11:02:13.887350Z"
        },
        "trusted": true,
        "colab": {
          "base_uri": "https://localhost:8080/",
          "height": 487
        },
        "id": "YWozddeziMii",
        "outputId": "63e040ff-4f36-401b-e71d-64d222e02849"
      },
      "execution_count": 30,
      "outputs": [
        {
          "output_type": "display_data",
          "data": {
            "text/plain": [
              "<Figure size 640x480 with 2 Axes>"
            ],
            "image/png": "[encoded data removed]"
          },
          "metadata": {}
        }
      ]
    },
    {
      "cell_type": "markdown",
      "source": [
        "#### Testing the Model"
      ],
      "metadata": {
        "id": "j4nH-paTiMij"
      }
    },
    {
      "cell_type": "code",
      "source": [
        "test_data = pd.read_csv(\"test.csv\")\n",
        "test_data.head()"
      ],
      "metadata": {
        "execution": {
          "iopub.status.busy": "2021-07-10T11:02:13.891004Z",
          "iopub.execute_input": "2021-07-10T11:02:13.891543Z",
          "iopub.status.idle": "2021-07-10T11:02:13.923734Z",
          "shell.execute_reply.started": "2021-07-10T11:02:13.891499Z",
          "shell.execute_reply": "2021-07-10T11:02:13.922691Z"
        },
        "trusted": true,
        "colab": {
          "base_uri": "https://localhost:8080/",
          "height": 206
        },
        "id": "7f9kaKi_iMij",
        "outputId": "36934f05-6d78-42e1-c8bb-402f130ba1fd"
      },
      "execution_count": 32,
      "outputs": [
        {
          "output_type": "execute_result",
          "data": {
            "text/plain": [
              "       textID                                               text sentiment\n",
              "0  f87dea47db  Last session of the day  http://twitpic.com/67ezh   neutral\n",
              "1  96d74cb729   Shanghai is also really exciting (precisely -...  positive\n",
              "2  eee518ae67  Recession hit Veronique Branquinho, she has to...  negative\n",
              "3  01082688c6                                        happy bday!  positive\n",
              "4  33987a8ee5             http://twitpic.com/4w75p - I like it!!  positive"
            ],
            "text/html": [
              "\n",
              "  <div id=\"df-7b5004f4-bbe3-427d-81ea-2500a769d256\" class=\"colab-df-container\">\n",
              "    <div>\n",
              "<style scoped>\n",
              "    .dataframe tbody tr th:only-of-type {\n",
              "        vertical-align: middle;\n",
              "    }\n",
              "\n",
              "    .dataframe tbody tr th {\n",
              "        vertical-align: top;\n",
              "    }\n",
              "\n",
              "    .dataframe thead th {\n",
              "        text-align: right;\n",
              "    }\n",
              "</style>\n",
              "<table border=\"1\" class=\"dataframe\">\n",
              "  <thead>\n",
              "    <tr style=\"text-align: right;\">\n",
              "      <th></th>\n",
              "      <th>textID</th>\n",
              "      <th>text</th>\n",
              "      <th>sentiment</th>\n",
              "    </tr>\n",
              "  </thead>\n",
              "  <tbody>\n",
              "    <tr>\n",
              "      <th>0</th>\n",
              "      <td>f87dea47db</td>\n",
              "      <td>Last session of the day  http://twitpic.com/67ezh</td>\n",
              "      <td>neutral</td>\n",
              "    </tr>\n",
              "    <tr>\n",
              "      <th>1</th>\n",
              "      <td>96d74cb729</td>\n",
              "      <td>Shanghai is also really exciting (precisely -...</td>\n",
              "      <td>positive</td>\n",
              "    </tr>\n",
              "    <tr>\n",
              "      <th>2</th>\n",
              "      <td>eee518ae67</td>\n",
              "      <td>Recession hit Veronique Branquinho, she has to...</td>\n",
              "      <td>negative</td>\n",
              "    </tr>\n",
              "    <tr>\n",
              "      <th>3</th>\n",
              "      <td>01082688c6</td>\n",
              "      <td>happy bday!</td>\n",
              "      <td>positive</td>\n",
              "    </tr>\n",
              "    <tr>\n",
              "      <th>4</th>\n",
              "      <td>33987a8ee5</td>\n",
              "      <td>http://twitpic.com/4w75p - I like it!!</td>\n",
              "      <td>positive</td>\n",
              "    </tr>\n",
              "  </tbody>\n",
              "</table>\n",
              "</div>\n",
              "    <div class=\"colab-df-buttons\">\n",
              "\n",
              "  <div class=\"colab-df-container\">\n",
              "    <button class=\"colab-df-convert\" onclick=\"convertToInteractive('df-7b5004f4-bbe3-427d-81ea-2500a769d256')\"\n",
              "            title=\"Convert this dataframe to an interactive table.\"\n",
              "            style=\"display:none;\">\n",
              "\n",
              "  <svg xmlns=\"http://www.w3.org/2000/svg\" height=\"24px\" viewBox=\"0 -960 960 960\">\n",
              "    <path d=\"M120-120v-720h720v720H120Zm60-500h600v-160H180v160Zm220 220h160v-160H400v160Zm0 220h160v-160H400v160ZM180-400h160v-160H180v160Zm440 0h160v-160H620v160ZM180-180h160v-160H180v160Zm440 0h160v-160H620v160Z\"/>\n",
              "  </svg>\n",
              "    </button>\n",
              "\n",
              "  <style>\n",
              "    .colab-df-container {\n",
              "      display:flex;\n",
              "      gap: 12px;\n",
              "    }\n",
              "\n",
              "    .colab-df-convert {\n",
              "      background-color: #E8F0FE;\n",
              "      border: none;\n",
              "      border-radius: 50%;\n",
              "      cursor: pointer;\n",
              "      display: none;\n",
              "      fill: #1967D2;\n",
              "      height: 32px;\n",
              "      padding: 0 0 0 0;\n",
              "      width: 32px;\n",
              "    }\n",
              "\n",
              "    .colab-df-convert:hover {\n",
              "      background-color: #E2EBFA;\n",
              "      box-shadow: 0px 1px 2px rgba(60, 64, 67, 0.3), 0px 1px 3px 1px rgba(60, 64, 67, 0.15);\n",
              "      fill: #174EA6;\n",
              "    }\n",
              "\n",
              "    .colab-df-buttons div {\n",
              "      margin-bottom: 4px;\n",
              "    }\n",
              "\n",
              "    [theme=dark] .colab-df-convert {\n",
              "      background-color: #3B4455;\n",
              "      fill: #D2E3FC;\n",
              "    }\n",
              "\n",
              "    [theme=dark] .colab-df-convert:hover {\n",
              "      background-color: #434B5C;\n",
              "      box-shadow: 0px 1px 3px 1px rgba(0, 0, 0, 0.15);\n",
              "      filter: drop-shadow(0px 1px 2px rgba(0, 0, 0, 0.3));\n",
              "      fill: #FFFFFF;\n",
              "    }\n",
              "  </style>\n",
              "\n",
              "    <script>\n",
              "      const buttonEl =\n",
              "        document.querySelector('#df-7b5004f4-bbe3-427d-81ea-2500a769d256 button.colab-df-convert');\n",
              "      buttonEl.style.display =\n",
              "        google.colab.kernel.accessAllowed ? 'block' : 'none';\n",
              "\n",
              "      async function convertToInteractive(key) {\n",
              "        const element = document.querySelector('#df-7b5004f4-bbe3-427d-81ea-2500a769d256');\n",
              "        const dataTable =\n",
              "          await google.colab.kernel.invokeFunction('convertToInteractive',\n",
              "                                                    [key], {});\n",
              "        if (!dataTable) return;\n",
              "\n",
              "        const docLinkHtml = 'Like what you see? Visit the ' +\n",
              "          '<a target=\"_blank\" href=https://colab.research.google.com/notebooks/data_table.ipynb>data table notebook</a>'\n",
              "          + ' to learn more about interactive tables.';\n",
              "        element.innerHTML = '';\n",
              "        dataTable['output_type'] = 'display_data';\n",
              "        await google.colab.output.renderOutput(dataTable, element);\n",
              "        const docLink = document.createElement('div');\n",
              "        docLink.innerHTML = docLinkHtml;\n",
              "        element.appendChild(docLink);\n",
              "      }\n",
              "    </script>\n",
              "  </div>\n",
              "\n",
              "\n",
              "<div id=\"df-3f987750-ac43-4e4d-96ee-3ccdf77b765a\">\n",
              "  <button class=\"colab-df-quickchart\" onclick=\"quickchart('df-3f987750-ac43-4e4d-96ee-3ccdf77b765a')\"\n",
              "            title=\"Suggest charts\"\n",
              "            style=\"display:none;\">\n",
              "\n",
              "<svg xmlns=\"http://www.w3.org/2000/svg\" height=\"24px\"viewBox=\"0 0 24 24\"\n",
              "     width=\"24px\">\n",
              "    <g>\n",
              "        <path d=\"M19 3H5c-1.1 0-2 .9-2 2v14c0 1.1.9 2 2 2h14c1.1 0 2-.9 2-2V5c0-1.1-.9-2-2-2zM9 17H7v-7h2v7zm4 0h-2V7h2v10zm4 0h-2v-4h2v4z\"/>\n",
              "    </g>\n",
              "</svg>\n",
              "  </button>\n",
              "\n",
              "<style>\n",
              "  .colab-df-quickchart {\n",
              "      --bg-color: #E8F0FE;\n",
              "      --fill-color: #1967D2;\n",
              "      --hover-bg-color: #E2EBFA;\n",
              "      --hover-fill-color: #174EA6;\n",
              "      --disabled-fill-color: #AAA;\n",
              "      --disabled-bg-color: #DDD;\n",
              "  }\n",
              "\n",
              "  [theme=dark] .colab-df-quickchart {\n",
              "      --bg-color: #3B4455;\n",
              "      --fill-color: #D2E3FC;\n",
              "      --hover-bg-color: #434B5C;\n",
              "      --hover-fill-color: #FFFFFF;\n",
              "      --disabled-bg-color: #3B4455;\n",
              "      --disabled-fill-color: #666;\n",
              "  }\n",
              "\n",
              "  .colab-df-quickchart {\n",
              "    background-color: var(--bg-color);\n",
              "    border: none;\n",
              "    border-radius: 50%;\n",
              "    cursor: pointer;\n",
              "    display: none;\n",
              "    fill: var(--fill-color);\n",
              "    height: 32px;\n",
              "    padding: 0;\n",
              "    width: 32px;\n",
              "  }\n",
              "\n",
              "  .colab-df-quickchart:hover {\n",
              "    background-color: var(--hover-bg-color);\n",
              "    box-shadow: 0 1px 2px rgba(60, 64, 67, 0.3), 0 1px 3px 1px rgba(60, 64, 67, 0.15);\n",
              "    fill: var(--button-hover-fill-color);\n",
              "  }\n",
              "\n",
              "  .colab-df-quickchart-complete:disabled,\n",
              "  .colab-df-quickchart-complete:disabled:hover {\n",
              "    background-color: var(--disabled-bg-color);\n",
              "    fill: var(--disabled-fill-color);\n",
              "    box-shadow: none;\n",
              "  }\n",
              "\n",
              "  .colab-df-spinner {\n",
              "    border: 2px solid var(--fill-color);\n",
              "    border-color: transparent;\n",
              "    border-bottom-color: var(--fill-color);\n",
              "    animation:\n",
              "      spin 1s steps(1) infinite;\n",
              "  }\n",
              "\n",
              "  @keyframes spin {\n",
              "    0% {\n",
              "      border-color: transparent;\n",
              "      border-bottom-color: var(--fill-color);\n",
              "      border-left-color: var(--fill-color);\n",
              "    }\n",
              "    20% {\n",
              "      border-color: transparent;\n",
              "      border-left-color: var(--fill-color);\n",
              "      border-top-color: var(--fill-color);\n",
              "    }\n",
              "    30% {\n",
              "      border-color: transparent;\n",
              "      border-left-color: var(--fill-color);\n",
              "      border-top-color: var(--fill-color);\n",
              "      border-right-color: var(--fill-color);\n",
              "    }\n",
              "    40% {\n",
              "      border-color: transparent;\n",
              "      border-right-color: var(--fill-color);\n",
              "      border-top-color: var(--fill-color);\n",
              "    }\n",
              "    60% {\n",
              "      border-color: transparent;\n",
              "      border-right-color: var(--fill-color);\n",
              "    }\n",
              "    80% {\n",
              "      border-color: transparent;\n",
              "      border-right-color: var(--fill-color);\n",
              "      border-bottom-color: var(--fill-color);\n",
              "    }\n",
              "    90% {\n",
              "      border-color: transparent;\n",
              "      border-bottom-color: var(--fill-color);\n",
              "    }\n",
              "  }\n",
              "</style>\n",
              "\n",
              "  <script>\n",
              "    async function quickchart(key) {\n",
              "      const quickchartButtonEl =\n",
              "        document.querySelector('#' + key + ' button');\n",
              "      quickchartButtonEl.disabled = true;  // To prevent multiple clicks.\n",
              "      quickchartButtonEl.classList.add('colab-df-spinner');\n",
              "      try {\n",
              "        const charts = await google.colab.kernel.invokeFunction(\n",
              "            'suggestCharts', [key], {});\n",
              "      } catch (error) {\n",
              "        console.error('Error during call to suggestCharts:', error);\n",
              "      }\n",
              "      quickchartButtonEl.classList.remove('colab-df-spinner');\n",
              "      quickchartButtonEl.classList.add('colab-df-quickchart-complete');\n",
              "    }\n",
              "    (() => {\n",
              "      let quickchartButtonEl =\n",
              "        document.querySelector('#df-3f987750-ac43-4e4d-96ee-3ccdf77b765a button');\n",
              "      quickchartButtonEl.style.display =\n",
              "        google.colab.kernel.accessAllowed ? 'block' : 'none';\n",
              "    })();\n",
              "  </script>\n",
              "</div>\n",
              "    </div>\n",
              "  </div>\n"
            ]
          },
          "metadata": {},
          "execution_count": 32
        }
      ]
    },
    {
      "cell_type": "code",
      "source": [
        "# Preprocessing data\n",
        "test_text = test_data[\"text\"]\n",
        "preprocessed_test_data = preprocess_text(test_text)\n",
        "test_data['preprocessed_text'] = preprocessed_test_data\n",
        "# Tokenize the sequence\n",
        "X_test = t.texts_to_sequences(test_data['preprocessed_text'])\n",
        "# Pad the sequence\n",
        "X_test = pad_sequences(X_test, maxlen = 20)\n",
        "X_test"
      ],
      "metadata": {
        "execution": {
          "iopub.status.busy": "2021-07-10T11:02:13.925543Z",
          "iopub.execute_input": "2021-07-10T11:02:13.926202Z",
          "iopub.status.idle": "2021-07-10T11:02:14.233609Z",
          "shell.execute_reply.started": "2021-07-10T11:02:13.926156Z",
          "shell.execute_reply": "2021-07-10T11:02:14.232251Z"
        },
        "trusted": true,
        "colab": {
          "base_uri": "https://localhost:8080/"
        },
        "id": "sXZTPviDiMij",
        "outputId": "ec453b6d-441e-4e0a-caa7-4df7afc4f706"
      },
      "execution_count": 33,
      "outputs": [
        {
          "output_type": "stream",
          "name": "stderr",
          "text": [
            "100%|██████████| 3534/3534 [00:00<00:00, 4521.00it/s]\n"
          ]
        },
        {
          "output_type": "execute_result",
          "data": {
            "text/plain": [
              "array([[    0,     0,     0, ...,     8,    74,    22],\n",
              "       [    0,     0,     0, ...,  1595,  2125,  4178],\n",
              "       [    0,     0,     0, ...,  1395,   728,   702],\n",
              "       ...,\n",
              "       [    0,     0,     0, ...,   448, 10986,  8057],\n",
              "       [    0,     0,     0, ...,    58,    10,   906],\n",
              "       [    0,     0,     0, ...,   273,  2396,  3360]], dtype=int32)"
            ]
          },
          "metadata": {},
          "execution_count": 33
        }
      ]
    },
    {
      "cell_type": "code",
      "source": [
        "# Preprocess (Encode) the output column\n",
        "test_label = test_data[\"sentiment\"]\n",
        "test_data[\"sentiment\"].replace(\"negative\", 0, inplace = True)\n",
        "test_data[\"sentiment\"].replace(\"positive\", 2, inplace = True)\n",
        "test_data[\"sentiment\"].replace(\"neutral\", 1, inplace = True)\n",
        "test_data.head()"
      ],
      "metadata": {
        "execution": {
          "iopub.status.busy": "2021-07-10T11:02:14.235976Z",
          "iopub.execute_input": "2021-07-10T11:02:14.236662Z",
          "iopub.status.idle": "2021-07-10T11:02:14.267054Z",
          "shell.execute_reply.started": "2021-07-10T11:02:14.236613Z",
          "shell.execute_reply": "2021-07-10T11:02:14.265736Z"
        },
        "trusted": true,
        "colab": {
          "base_uri": "https://localhost:8080/",
          "height": 206
        },
        "id": "Z-j2a8kBiMij",
        "outputId": "bdf5f3f3-badc-42ae-85a9-2ef5fe29157c"
      },
      "execution_count": 34,
      "outputs": [
        {
          "output_type": "execute_result",
          "data": {
            "text/plain": [
              "       textID                                               text  sentiment  \\\n",
              "0  f87dea47db  Last session of the day  http://twitpic.com/67ezh          1   \n",
              "1  96d74cb729   Shanghai is also really exciting (precisely -...          2   \n",
              "2  eee518ae67  Recession hit Veronique Branquinho, she has to...          0   \n",
              "3  01082688c6                                        happy bday!          2   \n",
              "4  33987a8ee5             http://twitpic.com/4w75p - I like it!!          2   \n",
              "\n",
              "                                   preprocessed_text  \n",
              "0            last session day http twitpic com 67ezh  \n",
              "1  shanghai also really exciting precisely skyscr...  \n",
              "2  recession hit veronique branquinho quit compan...  \n",
              "3                                         happy bday  \n",
              "4                        http twitpic com 4w75p like  "
            ],
            "text/html": [
              "\n",
              "  <div id=\"df-7aaee8f2-5300-4b1a-ba03-b81fef96c441\" class=\"colab-df-container\">\n",
              "    <div>\n",
              "<style scoped>\n",
              "    .dataframe tbody tr th:only-of-type {\n",
              "        vertical-align: middle;\n",
              "    }\n",
              "\n",
              "    .dataframe tbody tr th {\n",
              "        vertical-align: top;\n",
              "    }\n",
              "\n",
              "    .dataframe thead th {\n",
              "        text-align: right;\n",
              "    }\n",
              "</style>\n",
              "<table border=\"1\" class=\"dataframe\">\n",
              "  <thead>\n",
              "    <tr style=\"text-align: right;\">\n",
              "      <th></th>\n",
              "      <th>textID</th>\n",
              "      <th>text</th>\n",
              "      <th>sentiment</th>\n",
              "      <th>preprocessed_text</th>\n",
              "    </tr>\n",
              "  </thead>\n",
              "  <tbody>\n",
              "    <tr>\n",
              "      <th>0</th>\n",
              "      <td>f87dea47db</td>\n",
              "      <td>Last session of the day  http://twitpic.com/67ezh</td>\n",
              "      <td>1</td>\n",
              "      <td>last session day http twitpic com 67ezh</td>\n",
              "    </tr>\n",
              "    <tr>\n",
              "      <th>1</th>\n",
              "      <td>96d74cb729</td>\n",
              "      <td>Shanghai is also really exciting (precisely -...</td>\n",
              "      <td>2</td>\n",
              "      <td>shanghai also really exciting precisely skyscr...</td>\n",
              "    </tr>\n",
              "    <tr>\n",
              "      <th>2</th>\n",
              "      <td>eee518ae67</td>\n",
              "      <td>Recession hit Veronique Branquinho, she has to...</td>\n",
              "      <td>0</td>\n",
              "      <td>recession hit veronique branquinho quit compan...</td>\n",
              "    </tr>\n",
              "    <tr>\n",
              "      <th>3</th>\n",
              "      <td>01082688c6</td>\n",
              "      <td>happy bday!</td>\n",
              "      <td>2</td>\n",
              "      <td>happy bday</td>\n",
              "    </tr>\n",
              "    <tr>\n",
              "      <th>4</th>\n",
              "      <td>33987a8ee5</td>\n",
              "      <td>http://twitpic.com/4w75p - I like it!!</td>\n",
              "      <td>2</td>\n",
              "      <td>http twitpic com 4w75p like</td>\n",
              "    </tr>\n",
              "  </tbody>\n",
              "</table>\n",
              "</div>\n",
              "    <div class=\"colab-df-buttons\">\n",
              "\n",
              "  <div class=\"colab-df-container\">\n",
              "    <button class=\"colab-df-convert\" onclick=\"convertToInteractive('df-7aaee8f2-5300-4b1a-ba03-b81fef96c441')\"\n",
              "            title=\"Convert this dataframe to an interactive table.\"\n",
              "            style=\"display:none;\">\n",
              "\n",
              "  <svg xmlns=\"http://www.w3.org/2000/svg\" height=\"24px\" viewBox=\"0 -960 960 960\">\n",
              "    <path d=\"M120-120v-720h720v720H120Zm60-500h600v-160H180v160Zm220 220h160v-160H400v160Zm0 220h160v-160H400v160ZM180-400h160v-160H180v160Zm440 0h160v-160H620v160ZM180-180h160v-160H180v160Zm440 0h160v-160H620v160Z\"/>\n",
              "  </svg>\n",
              "    </button>\n",
              "\n",
              "  <style>\n",
              "    .colab-df-container {\n",
              "      display:flex;\n",
              "      gap: 12px;\n",
              "    }\n",
              "\n",
              "    .colab-df-convert {\n",
              "      background-color: #E8F0FE;\n",
              "      border: none;\n",
              "      border-radius: 50%;\n",
              "      cursor: pointer;\n",
              "      display: none;\n",
              "      fill: #1967D2;\n",
              "      height: 32px;\n",
              "      padding: 0 0 0 0;\n",
              "      width: 32px;\n",
              "    }\n",
              "\n",
              "    .colab-df-convert:hover {\n",
              "      background-color: #E2EBFA;\n",
              "      box-shadow: 0px 1px 2px rgba(60, 64, 67, 0.3), 0px 1px 3px 1px rgba(60, 64, 67, 0.15);\n",
              "      fill: #174EA6;\n",
              "    }\n",
              "\n",
              "    .colab-df-buttons div {\n",
              "      margin-bottom: 4px;\n",
              "    }\n",
              "\n",
              "    [theme=dark] .colab-df-convert {\n",
              "      background-color: #3B4455;\n",
              "      fill: #D2E3FC;\n",
              "    }\n",
              "\n",
              "    [theme=dark] .colab-df-convert:hover {\n",
              "      background-color: #434B5C;\n",
              "      box-shadow: 0px 1px 3px 1px rgba(0, 0, 0, 0.15);\n",
              "      filter: drop-shadow(0px 1px 2px rgba(0, 0, 0, 0.3));\n",
              "      fill: #FFFFFF;\n",
              "    }\n",
              "  </style>\n",
              "\n",
              "    <script>\n",
              "      const buttonEl =\n",
              "        document.querySelector('#df-7aaee8f2-5300-4b1a-ba03-b81fef96c441 button.colab-df-convert');\n",
              "      buttonEl.style.display =\n",
              "        google.colab.kernel.accessAllowed ? 'block' : 'none';\n",
              "\n",
              "      async function convertToInteractive(key) {\n",
              "        const element = document.querySelector('#df-7aaee8f2-5300-4b1a-ba03-b81fef96c441');\n",
              "        const dataTable =\n",
              "          await google.colab.kernel.invokeFunction('convertToInteractive',\n",
              "                                                    [key], {});\n",
              "        if (!dataTable) return;\n",
              "\n",
              "        const docLinkHtml = 'Like what you see? Visit the ' +\n",
              "          '<a target=\"_blank\" href=https://colab.research.google.com/notebooks/data_table.ipynb>data table notebook</a>'\n",
              "          + ' to learn more about interactive tables.';\n",
              "        element.innerHTML = '';\n",
              "        dataTable['output_type'] = 'display_data';\n",
              "        await google.colab.output.renderOutput(dataTable, element);\n",
              "        const docLink = document.createElement('div');\n",
              "        docLink.innerHTML = docLinkHtml;\n",
              "        element.appendChild(docLink);\n",
              "      }\n",
              "    </script>\n",
              "  </div>\n",
              "\n",
              "\n",
              "<div id=\"df-f0173030-a78c-4877-8793-e5b784460b7c\">\n",
              "  <button class=\"colab-df-quickchart\" onclick=\"quickchart('df-f0173030-a78c-4877-8793-e5b784460b7c')\"\n",
              "            title=\"Suggest charts\"\n",
              "            style=\"display:none;\">\n",
              "\n",
              "<svg xmlns=\"http://www.w3.org/2000/svg\" height=\"24px\"viewBox=\"0 0 24 24\"\n",
              "     width=\"24px\">\n",
              "    <g>\n",
              "        <path d=\"M19 3H5c-1.1 0-2 .9-2 2v14c0 1.1.9 2 2 2h14c1.1 0 2-.9 2-2V5c0-1.1-.9-2-2-2zM9 17H7v-7h2v7zm4 0h-2V7h2v10zm4 0h-2v-4h2v4z\"/>\n",
              "    </g>\n",
              "</svg>\n",
              "  </button>\n",
              "\n",
              "<style>\n",
              "  .colab-df-quickchart {\n",
              "      --bg-color: #E8F0FE;\n",
              "      --fill-color: #1967D2;\n",
              "      --hover-bg-color: #E2EBFA;\n",
              "      --hover-fill-color: #174EA6;\n",
              "      --disabled-fill-color: #AAA;\n",
              "      --disabled-bg-color: #DDD;\n",
              "  }\n",
              "\n",
              "  [theme=dark] .colab-df-quickchart {\n",
              "      --bg-color: #3B4455;\n",
              "      --fill-color: #D2E3FC;\n",
              "      --hover-bg-color: #434B5C;\n",
              "      --hover-fill-color: #FFFFFF;\n",
              "      --disabled-bg-color: #3B4455;\n",
              "      --disabled-fill-color: #666;\n",
              "  }\n",
              "\n",
              "  .colab-df-quickchart {\n",
              "    background-color: var(--bg-color);\n",
              "    border: none;\n",
              "    border-radius: 50%;\n",
              "    cursor: pointer;\n",
              "    display: none;\n",
              "    fill: var(--fill-color);\n",
              "    height: 32px;\n",
              "    padding: 0;\n",
              "    width: 32px;\n",
              "  }\n",
              "\n",
              "  .colab-df-quickchart:hover {\n",
              "    background-color: var(--hover-bg-color);\n",
              "    box-shadow: 0 1px 2px rgba(60, 64, 67, 0.3), 0 1px 3px 1px rgba(60, 64, 67, 0.15);\n",
              "    fill: var(--button-hover-fill-color);\n",
              "  }\n",
              "\n",
              "  .colab-df-quickchart-complete:disabled,\n",
              "  .colab-df-quickchart-complete:disabled:hover {\n",
              "    background-color: var(--disabled-bg-color);\n",
              "    fill: var(--disabled-fill-color);\n",
              "    box-shadow: none;\n",
              "  }\n",
              "\n",
              "  .colab-df-spinner {\n",
              "    border: 2px solid var(--fill-color);\n",
              "    border-color: transparent;\n",
              "    border-bottom-color: var(--fill-color);\n",
              "    animation:\n",
              "      spin 1s steps(1) infinite;\n",
              "  }\n",
              "\n",
              "  @keyframes spin {\n",
              "    0% {\n",
              "      border-color: transparent;\n",
              "      border-bottom-color: var(--fill-color);\n",
              "      border-left-color: var(--fill-color);\n",
              "    }\n",
              "    20% {\n",
              "      border-color: transparent;\n",
              "      border-left-color: var(--fill-color);\n",
              "      border-top-color: var(--fill-color);\n",
              "    }\n",
              "    30% {\n",
              "      border-color: transparent;\n",
              "      border-left-color: var(--fill-color);\n",
              "      border-top-color: var(--fill-color);\n",
              "      border-right-color: var(--fill-color);\n",
              "    }\n",
              "    40% {\n",
              "      border-color: transparent;\n",
              "      border-right-color: var(--fill-color);\n",
              "      border-top-color: var(--fill-color);\n",
              "    }\n",
              "    60% {\n",
              "      border-color: transparent;\n",
              "      border-right-color: var(--fill-color);\n",
              "    }\n",
              "    80% {\n",
              "      border-color: transparent;\n",
              "      border-right-color: var(--fill-color);\n",
              "      border-bottom-color: var(--fill-color);\n",
              "    }\n",
              "    90% {\n",
              "      border-color: transparent;\n",
              "      border-bottom-color: var(--fill-color);\n",
              "    }\n",
              "  }\n",
              "</style>\n",
              "\n",
              "  <script>\n",
              "    async function quickchart(key) {\n",
              "      const quickchartButtonEl =\n",
              "        document.querySelector('#' + key + ' button');\n",
              "      quickchartButtonEl.disabled = true;  // To prevent multiple clicks.\n",
              "      quickchartButtonEl.classList.add('colab-df-spinner');\n",
              "      try {\n",
              "        const charts = await google.colab.kernel.invokeFunction(\n",
              "            'suggestCharts', [key], {});\n",
              "      } catch (error) {\n",
              "        console.error('Error during call to suggestCharts:', error);\n",
              "      }\n",
              "      quickchartButtonEl.classList.remove('colab-df-spinner');\n",
              "      quickchartButtonEl.classList.add('colab-df-quickchart-complete');\n",
              "    }\n",
              "    (() => {\n",
              "      let quickchartButtonEl =\n",
              "        document.querySelector('#df-f0173030-a78c-4877-8793-e5b784460b7c button');\n",
              "      quickchartButtonEl.style.display =\n",
              "        google.colab.kernel.accessAllowed ? 'block' : 'none';\n",
              "    })();\n",
              "  </script>\n",
              "</div>\n",
              "    </div>\n",
              "  </div>\n"
            ]
          },
          "metadata": {},
          "execution_count": 34
        }
      ]
    },
    {
      "cell_type": "code",
      "source": [
        "test_label = test_data[\"sentiment\"]\n",
        "Y_test = to_categorical(test_label)"
      ],
      "metadata": {
        "execution": {
          "iopub.status.busy": "2021-07-10T11:02:14.269065Z",
          "iopub.execute_input": "2021-07-10T11:02:14.269623Z",
          "iopub.status.idle": "2021-07-10T11:02:14.276232Z",
          "shell.execute_reply.started": "2021-07-10T11:02:14.269507Z",
          "shell.execute_reply": "2021-07-10T11:02:14.274514Z"
        },
        "trusted": true,
        "id": "GrsCYRtRiMik"
      },
      "execution_count": 35,
      "outputs": []
    },
    {
      "cell_type": "code",
      "source": [
        "model.evaluate(X_test, Y_test, verbose = 2, batch_size = 64)"
      ],
      "metadata": {
        "execution": {
          "iopub.status.busy": "2021-07-10T11:02:14.278106Z",
          "iopub.execute_input": "2021-07-10T11:02:14.279024Z",
          "iopub.status.idle": "2021-07-10T11:02:15.446367Z",
          "shell.execute_reply.started": "2021-07-10T11:02:14.278974Z",
          "shell.execute_reply": "2021-07-10T11:02:15.445340Z"
        },
        "trusted": true,
        "colab": {
          "base_uri": "https://localhost:8080/"
        },
        "id": "Np7B_v0SiMik",
        "outputId": "ad3f0c53-326c-4dbb-b67b-a8a25d9fe72d"
      },
      "execution_count": 36,
      "outputs": [
        {
          "output_type": "stream",
          "name": "stdout",
          "text": [
            "56/56 - 10s - loss: 0.8344 - accuracy: 0.7006 - 10s/epoch - 172ms/step\n"
          ]
        },
        {
          "output_type": "execute_result",
          "data": {
            "text/plain": [
              "[0.8344160914421082, 0.7006224989891052]"
            ]
          },
          "metadata": {},
          "execution_count": 36
        }
      ]
    },
    {
      "cell_type": "markdown",
      "source": [
        "The validation accuracy is 70.06 percent on the test  set"
      ],
      "metadata": {
        "id": "dx5EUxBZiMik"
      }
    },
    {
      "cell_type": "markdown",
      "source": [
        "### LSTM Model + Glove Embedding"
      ],
      "metadata": {
        "id": "kZarMxtYiMik"
      }
    },
    {
      "cell_type": "code",
      "source": [
        "# downloading the glove word embedding\n",
        "!wget \"http://nlp.stanford.edu/data/glove.840B.300d.zip\""
      ],
      "metadata": {
        "execution": {
          "iopub.status.busy": "2021-07-10T09:06:08.252723Z",
          "iopub.execute_input": "2021-07-10T09:06:08.253190Z",
          "iopub.status.idle": "2021-07-10T09:13:02.866835Z",
          "shell.execute_reply.started": "2021-07-10T09:06:08.253140Z",
          "shell.execute_reply": "2021-07-10T09:13:02.865657Z"
        },
        "trusted": true,
        "id": "mPjQwIYziMir",
        "colab": {
          "base_uri": "https://localhost:8080/"
        },
        "outputId": "6283e4c8-7aca-4b1f-8f7b-a65eecce7c85"
      },
      "execution_count": 37,
      "outputs": [
        {
          "output_type": "stream",
          "name": "stdout",
          "text": [
            "--2023-11-23 20:33:21--  http://nlp.stanford.edu/data/glove.840B.300d.zip\n",
            "Resolving nlp.stanford.edu (nlp.stanford.edu)... 171.64.67.140\n",
            "Connecting to nlp.stanford.edu (nlp.stanford.edu)|171.64.67.140|:80... connected.\n",
            "HTTP request sent, awaiting response... 302 Found\n",
            "Location: https://nlp.stanford.edu/data/glove.840B.300d.zip [following]\n",
            "--2023-11-23 20:33:22--  https://nlp.stanford.edu/data/glove.840B.300d.zip\n",
            "Connecting to nlp.stanford.edu (nlp.stanford.edu)|171.64.67.140|:443... connected.\n",
            "HTTP request sent, awaiting response... 301 Moved Permanently\n",
            "Location: https://downloads.cs.stanford.edu/nlp/data/glove.840B.300d.zip [following]\n",
            "--2023-11-23 20:33:22--  https://downloads.cs.stanford.edu/nlp/data/glove.840B.300d.zip\n",
            "Resolving downloads.cs.stanford.edu (downloads.cs.stanford.edu)... 171.64.64.22\n",
            "Connecting to downloads.cs.stanford.edu (downloads.cs.stanford.edu)|171.64.64.22|:443... connected.\n",
            "HTTP request sent, awaiting response... 200 OK\n",
            "Length: 2176768927 (2.0G) [application/zip]\n",
            "Saving to: ‘glove.840B.300d.zip’\n",
            "\n",
            "glove.840B.300d.zip 100%[===================>]   2.03G  5.23MB/s    in 7m 0s   \n",
            "\n",
            "2023-11-23 20:40:22 (4.95 MB/s) - ‘glove.840B.300d.zip’ saved [2176768927/2176768927]\n",
            "\n"
          ]
        }
      ]
    },
    {
      "cell_type": "code",
      "source": [
        "# unzip glove embedding\n",
        "! unzip \"./glove.840B.300d.zip\""
      ],
      "metadata": {
        "execution": {
          "iopub.status.busy": "2021-07-10T09:13:09.182630Z",
          "iopub.execute_input": "2021-07-10T09:13:09.183004Z",
          "iopub.status.idle": "2021-07-10T09:14:12.353489Z",
          "shell.execute_reply.started": "2021-07-10T09:13:09.182968Z",
          "shell.execute_reply": "2021-07-10T09:14:12.352431Z"
        },
        "trusted": true,
        "id": "43xS1tRViMir",
        "colab": {
          "base_uri": "https://localhost:8080/"
        },
        "outputId": "7929dd06-6108-46bd-8db0-73c36f8c20b4"
      },
      "execution_count": 40,
      "outputs": [
        {
          "output_type": "stream",
          "name": "stdout",
          "text": [
            "Archive:  ./glove.840B.300d.zip\n",
            "  inflating: glove.840B.300d.txt     \n"
          ]
        }
      ]
    },
    {
      "cell_type": "code",
      "source": [
        "# generate word embedding dictationary\n",
        "embeddings_index = {}\n",
        "f = open('./glove.840B.300d.txt')\n",
        "print('Loading glove vetors...')\n",
        "for line in f:\n",
        "    values = line.split(' ')\n",
        "    word = values[0] ## The first entry is the word\n",
        "    coefs = np.asarray(values[1:], dtype='float32') ## These are the vecotrs representing the embedding for the word\n",
        "    embeddings_index[word] = coefs\n",
        "f.close()\n",
        "\n",
        "print('GloVe data loaded!!!')\n"
      ],
      "metadata": {
        "execution": {
          "iopub.status.busy": "2021-07-10T09:14:22.041436Z",
          "iopub.execute_input": "2021-07-10T09:14:22.041865Z",
          "iopub.status.idle": "2021-07-10T09:19:12.008299Z",
          "shell.execute_reply.started": "2021-07-10T09:14:22.041831Z",
          "shell.execute_reply": "2021-07-10T09:19:12.007081Z"
        },
        "trusted": true,
        "id": "Bt6sVqUIiMir",
        "colab": {
          "base_uri": "https://localhost:8080/"
        },
        "outputId": "ea01b280-ac95-47ce-a22a-0c374432013a"
      },
      "execution_count": 41,
      "outputs": [
        {
          "output_type": "stream",
          "name": "stdout",
          "text": [
            "Loading glove vetors...\n",
            "GloVe data loaded!!!\n"
          ]
        }
      ]
    },
    {
      "cell_type": "code",
      "source": [
        "# save the word embedding dictationary\n",
        "import pickle\n",
        "with open('embeddings_glove.pickle', 'wb') as handle:\n",
        "    pickle.dump(embeddings_index, handle, protocol=pickle.HIGHEST_PROTOCOL)"
      ],
      "metadata": {
        "execution": {
          "iopub.status.busy": "2021-07-10T09:19:12.010535Z",
          "iopub.execute_input": "2021-07-10T09:19:12.010866Z",
          "iopub.status.idle": "2021-07-10T09:19:40.560712Z",
          "shell.execute_reply.started": "2021-07-10T09:19:12.010836Z",
          "shell.execute_reply": "2021-07-10T09:19:40.559663Z"
        },
        "trusted": true,
        "id": "aiOA7kURiMis"
      },
      "execution_count": 42,
      "outputs": []
    },
    {
      "cell_type": "code",
      "source": [
        "# making embedding weight metrix by glove vectors\n",
        "embedding_matrix = np.zeros((vocab_size, 300))\n",
        "\n",
        "for word, i in t.word_index.items():\n",
        "    embedding_vector = embeddings_index.get(word)\n",
        "    if embedding_vector is not None:\n",
        "        embedding_matrix[i] = embedding_vector"
      ],
      "metadata": {
        "id": "2qsarNjDytZQ"
      },
      "execution_count": 45,
      "outputs": []
    },
    {
      "cell_type": "code",
      "source": [
        "# input layer\n",
        "inputs = tf.keras.Input(shape=(20))\n",
        "\n",
        "# embedding layer with pretrained weight\n",
        "embedding = Embedding(vocab_size, 300, weights=[embedding_matrix], trainable=False)(inputs)\n",
        "lstm1 = LSTM(lstm_out, dropout=0.2, recurrent_dropout=0.2, return_sequences = True)(embedding)\n",
        "lstm2 = LSTM(400, dropout=0.2, recurrent_dropout=0.2)(lstm1)\n",
        "dense1 = Dense(32, activation = \"relu\")(lstm2)\n",
        "dense2 = Dense(64, activation = \"relu\")(dense1)\n",
        "out = Dense(3,activation='sigmoid')(dense2)\n",
        "\n",
        "# build the model\n",
        "model = Model(inputs=inputs, outputs=out)"
      ],
      "metadata": {
        "execution": {
          "iopub.status.busy": "2021-07-10T11:02:15.450789Z",
          "iopub.execute_input": "2021-07-10T11:02:15.451170Z",
          "iopub.status.idle": "2021-07-10T11:02:16.324621Z",
          "shell.execute_reply.started": "2021-07-10T11:02:15.451137Z",
          "shell.execute_reply": "2021-07-10T11:02:16.323309Z"
        },
        "trusted": true,
        "id": "Gx9t5i3ViMik"
      },
      "execution_count": 46,
      "outputs": []
    },
    {
      "cell_type": "code",
      "source": [
        "model.compile(loss = 'categorical_crossentropy', optimizer='adam',metrics = ['accuracy'])\n",
        "print(model.summary())"
      ],
      "metadata": {
        "execution": {
          "iopub.status.busy": "2021-07-10T11:02:16.328361Z",
          "iopub.execute_input": "2021-07-10T11:02:16.328727Z",
          "iopub.status.idle": "2021-07-10T11:02:16.353499Z",
          "shell.execute_reply.started": "2021-07-10T11:02:16.328683Z",
          "shell.execute_reply": "2021-07-10T11:02:16.349884Z"
        },
        "trusted": true,
        "colab": {
          "base_uri": "https://localhost:8080/"
        },
        "id": "1yxeAE8SiMik",
        "outputId": "abb81de0-0cb3-4a9a-d280-4dace0b0644d"
      },
      "execution_count": 47,
      "outputs": [
        {
          "output_type": "stream",
          "name": "stdout",
          "text": [
            "Model: \"model\"\n",
            "_________________________________________________________________\n",
            " Layer (type)                Output Shape              Param #   \n",
            "=================================================================\n",
            " input_1 (InputLayer)        [(None, 20)]              0         \n",
            "                                                                 \n",
            " embedding_2 (Embedding)     (None, 20, 300)           7734900   \n",
            "                                                                 \n",
            " lstm_4 (LSTM)               (None, 20, 300)           721200    \n",
            "                                                                 \n",
            " lstm_5 (LSTM)               (None, 400)               1121600   \n",
            "                                                                 \n",
            " dense_3 (Dense)             (None, 32)                12832     \n",
            "                                                                 \n",
            " dense_4 (Dense)             (None, 64)                2112      \n",
            "                                                                 \n",
            " dense_5 (Dense)             (None, 3)                 195       \n",
            "                                                                 \n",
            "=================================================================\n",
            "Total params: 9592839 (36.59 MB)\n",
            "Trainable params: 1857939 (7.09 MB)\n",
            "Non-trainable params: 7734900 (29.51 MB)\n",
            "_________________________________________________________________\n",
            "None\n"
          ]
        }
      ]
    },
    {
      "cell_type": "code",
      "source": [
        "H1 = model.fit(X, Y, epochs = 6, batch_size=batch_size, verbose = 1, validation_split = 0.2)"
      ],
      "metadata": {
        "execution": {
          "iopub.status.busy": "2021-07-10T11:02:16.355191Z",
          "iopub.execute_input": "2021-07-10T11:02:16.355842Z",
          "iopub.status.idle": "2021-07-10T11:18:58.140685Z",
          "shell.execute_reply.started": "2021-07-10T11:02:16.355765Z",
          "shell.execute_reply": "2021-07-10T11:18:58.139664Z"
        },
        "trusted": true,
        "colab": {
          "base_uri": "https://localhost:8080/"
        },
        "id": "_lhPSkKkiMiq",
        "outputId": "a52f7cec-1fec-42be-b648-e08178d49850"
      },
      "execution_count": 48,
      "outputs": [
        {
          "output_type": "stream",
          "name": "stdout",
          "text": [
            "Epoch 1/6\n",
            "683/683 [==============================] - 492s 708ms/step - loss: 0.7425 - accuracy: 0.6783 - val_loss: 0.6722 - val_accuracy: 0.7302\n",
            "Epoch 2/6\n",
            "683/683 [==============================] - 480s 703ms/step - loss: 0.6312 - accuracy: 0.7431 - val_loss: 0.6303 - val_accuracy: 0.7399\n",
            "Epoch 3/6\n",
            "683/683 [==============================] - 478s 700ms/step - loss: 0.5921 - accuracy: 0.7605 - val_loss: 0.6223 - val_accuracy: 0.7505\n",
            "Epoch 4/6\n",
            "683/683 [==============================] - 480s 703ms/step - loss: 0.5548 - accuracy: 0.7753 - val_loss: 0.6155 - val_accuracy: 0.7553\n",
            "Epoch 5/6\n",
            "683/683 [==============================] - 479s 701ms/step - loss: 0.5074 - accuracy: 0.7962 - val_loss: 0.6280 - val_accuracy: 0.7487\n",
            "Epoch 6/6\n",
            "683/683 [==============================] - 479s 702ms/step - loss: 0.4505 - accuracy: 0.8205 - val_loss: 0.6705 - val_accuracy: 0.7485\n"
          ]
        }
      ]
    },
    {
      "cell_type": "code",
      "source": [
        "fig, axes = plt.subplots(nrows=1, ncols=2, figsize=(12, 4))\n",
        "\n",
        "# Plot accuracy\n",
        "axes[0].plot(range(1, 7), H1.history['accuracy'], label='Training Accuracy')\n",
        "axes[0].plot(range(1, 7), H1.history['val_accuracy'], label='Validation Accuracy')\n",
        "axes[0].set_title('Plot of Accuracy vs Epoch')\n",
        "axes[0].set_xlabel('Epoch')\n",
        "axes[0].set_ylabel('Accuracy')\n",
        "axes[0].legend()\n",
        "\n",
        "# Plot loss\n",
        "axes[1].plot(range(1, 7), H1.history['loss'], label='Training Loss')\n",
        "axes[1].plot(range(1, 7), H1.history['val_loss'], label='Validation Loss')\n",
        "axes[1].set_title('Plot of Loss vs Epoch')\n",
        "axes[1].set_xlabel('Epoch')\n",
        "axes[1].set_ylabel('Loss')\n",
        "axes[1].legend()\n",
        "\n",
        "# Adjust layout to prevent clipping of titles\n",
        "plt.tight_layout()\n",
        "\n",
        "# Show the plots\n",
        "plt.show()"
      ],
      "metadata": {
        "execution": {
          "iopub.status.busy": "2021-07-10T11:22:46.892939Z",
          "iopub.execute_input": "2021-07-10T11:22:46.893481Z",
          "iopub.status.idle": "2021-07-10T11:22:47.370983Z",
          "shell.execute_reply.started": "2021-07-10T11:22:46.893433Z",
          "shell.execute_reply": "2021-07-10T11:22:47.369984Z"
        },
        "trusted": true,
        "colab": {
          "base_uri": "https://localhost:8080/",
          "height": 326
        },
        "id": "7dFojku9iMiq",
        "outputId": "dc748b66-f1c6-4672-e676-109743ae3855"
      },
      "execution_count": 50,
      "outputs": [
        {
          "output_type": "display_data",
          "data": {
            "text/plain": [
              "<Figure size 1200x400 with 2 Axes>"
            ],
            "image/png": "[encoded data removed]"
          },
          "metadata": {}
        }
      ]
    },
    {
      "cell_type": "code",
      "source": [
        "model.evaluate(X_test, Y_test, verbose = 2, batch_size = 64)"
      ],
      "metadata": {
        "execution": {
          "iopub.status.busy": "2021-07-10T11:22:53.757882Z",
          "iopub.execute_input": "2021-07-10T11:22:53.758352Z",
          "iopub.status.idle": "2021-07-10T11:22:54.602247Z",
          "shell.execute_reply.started": "2021-07-10T11:22:53.758318Z",
          "shell.execute_reply": "2021-07-10T11:22:54.600866Z"
        },
        "trusted": true,
        "colab": {
          "base_uri": "https://localhost:8080/"
        },
        "id": "nJbAltIxiMiq",
        "outputId": "610b1796-ec7e-4b55-8ad9-8b60c3560a09"
      },
      "execution_count": 51,
      "outputs": [
        {
          "output_type": "stream",
          "name": "stdout",
          "text": [
            "56/56 - 10s - loss: 0.6508 - accuracy: 0.7583 - 10s/epoch - 186ms/step\n"
          ]
        },
        {
          "output_type": "execute_result",
          "data": {
            "text/plain": [
              "[0.6508498191833496, 0.7583475112915039]"
            ]
          },
          "metadata": {},
          "execution_count": 51
        }
      ]
    },
    {
      "cell_type": "markdown",
      "source": [
        "Accuracy obtrained is 75.83"
      ],
      "metadata": {
        "id": "3gmYPWsPiMir"
      }
    },
    {
      "cell_type": "markdown",
      "source": [
        "### CNN Model + Glove Embedding"
      ],
      "metadata": {
        "id": "TSQUXbMBiMir"
      }
    },
    {
      "cell_type": "code",
      "source": [
        "# input layer\n",
        "inputs = tf.keras.Input(shape=(20))\n",
        "\n",
        "# embedding layer with pretrained weight\n",
        "embedding = Embedding(vocab_size, 300, weights=[embedding_matrix], trainable=False)(inputs)\n",
        "\n",
        "# parellel convolution_block_1\n",
        "conv1_1 = Conv1D(16, 3, activation=tf.nn.relu, padding = 'same')(embedding)\n",
        "conv1_2 = Conv1D(16, 2, activation=tf.nn.relu, padding = 'same')(embedding)\n",
        "conv1_3 = Conv1D(16, 5, activation=tf.nn.relu, padding = 'same')(embedding)\n",
        "\n",
        "# concatenate_1\n",
        "concat_1 = Concatenate(axis = 1)([conv1_1, conv1_2, conv1_3])\n",
        "concat_1 = MaxPooling1D(2)(concat_1)\n",
        "\n",
        "# parellel convolution_block_2\n",
        "conv2_1 = Conv1D(24, 7, activation=tf.nn.relu, padding = 'same')(concat_1)\n",
        "conv2_2 = Conv1D(24, 9, activation=tf.nn.relu, padding = 'same')(concat_1)\n",
        "conv2_3 = Conv1D(24, 5, activation=tf.nn.relu, padding = 'same')(concat_1)\n",
        "\n",
        "# concatenate_2\n",
        "concat_2 = Concatenate(axis = 1)([conv2_1, conv2_2, conv2_3])\n",
        "# concat_2 = MaxPooling1D(2, stride = 1)(concat_2)\n",
        "\n",
        "# convolutiona layer\n",
        "conv3 = Conv1D(10, 115, activation=tf.nn.relu, padding = 'same')(concat_2)\n",
        "\n",
        "# flatten layer\n",
        "flat = Flatten()(conv3)\n",
        "# dropout layer\n",
        "drop = Dropout(0.3)(flat)\n",
        "\n",
        "# dense layers\n",
        "dense_1 = Dense(256, activation=tf.nn.relu)(drop)\n",
        "drop = Dropout(0.25)(dense_1)\n",
        "dense_1 = Dense(100, activation=tf.nn.relu)(dense_1)\n",
        "\n",
        "# output layer with 20 output nurons\n",
        "outputs = Dense(3, activation=tf.nn.softmax)(dense_1)\n",
        "\n",
        "# build the model\n",
        "model = Model(inputs=inputs, outputs=outputs)"
      ],
      "metadata": {
        "execution": {
          "iopub.status.busy": "2021-07-10T11:23:48.176750Z",
          "iopub.execute_input": "2021-07-10T11:23:48.177164Z",
          "iopub.status.idle": "2021-07-10T11:23:48.450973Z",
          "shell.execute_reply.started": "2021-07-10T11:23:48.177130Z",
          "shell.execute_reply": "2021-07-10T11:23:48.449859Z"
        },
        "trusted": true,
        "id": "2FJ-I3FXiMis"
      },
      "execution_count": 52,
      "outputs": []
    },
    {
      "cell_type": "code",
      "source": [
        "model.summary()"
      ],
      "metadata": {
        "execution": {
          "iopub.status.busy": "2021-07-10T11:23:49.556714Z",
          "iopub.execute_input": "2021-07-10T11:23:49.557167Z",
          "iopub.status.idle": "2021-07-10T11:23:49.574312Z",
          "shell.execute_reply.started": "2021-07-10T11:23:49.557076Z",
          "shell.execute_reply": "2021-07-10T11:23:49.573109Z"
        },
        "trusted": true,
        "colab": {
          "base_uri": "https://localhost:8080/"
        },
        "id": "vGJ1zEMWiMis",
        "outputId": "4c491e63-d827-45de-9005-ae8328c29164"
      },
      "execution_count": 53,
      "outputs": [
        {
          "output_type": "stream",
          "name": "stdout",
          "text": [
            "Model: \"model_1\"\n",
            "__________________________________________________________________________________________________\n",
            " Layer (type)                Output Shape                 Param #   Connected to                  \n",
            "==================================================================================================\n",
            " input_2 (InputLayer)        [(None, 20)]                 0         []                            \n",
            "                                                                                                  \n",
            " embedding_3 (Embedding)     (None, 20, 300)              7734900   ['input_2[0][0]']             \n",
            "                                                                                                  \n",
            " conv1d (Conv1D)             (None, 20, 16)               14416     ['embedding_3[0][0]']         \n",
            "                                                                                                  \n",
            " conv1d_1 (Conv1D)           (None, 20, 16)               9616      ['embedding_3[0][0]']         \n",
            "                                                                                                  \n",
            " conv1d_2 (Conv1D)           (None, 20, 16)               24016     ['embedding_3[0][0]']         \n",
            "                                                                                                  \n",
            " concatenate (Concatenate)   (None, 60, 16)               0         ['conv1d[0][0]',              \n",
            "                                                                     'conv1d_1[0][0]',            \n",
            "                                                                     'conv1d_2[0][0]']            \n",
            "                                                                                                  \n",
            " max_pooling1d (MaxPooling1  (None, 30, 16)               0         ['concatenate[0][0]']         \n",
            " D)                                                                                               \n",
            "                                                                                                  \n",
            " conv1d_3 (Conv1D)           (None, 30, 24)               2712      ['max_pooling1d[0][0]']       \n",
            "                                                                                                  \n",
            " conv1d_4 (Conv1D)           (None, 30, 24)               3480      ['max_pooling1d[0][0]']       \n",
            "                                                                                                  \n",
            " conv1d_5 (Conv1D)           (None, 30, 24)               1944      ['max_pooling1d[0][0]']       \n",
            "                                                                                                  \n",
            " concatenate_1 (Concatenate  (None, 90, 24)               0         ['conv1d_3[0][0]',            \n",
            " )                                                                   'conv1d_4[0][0]',            \n",
            "                                                                     'conv1d_5[0][0]']            \n",
            "                                                                                                  \n",
            " conv1d_6 (Conv1D)           (None, 90, 10)               27610     ['concatenate_1[0][0]']       \n",
            "                                                                                                  \n",
            " flatten (Flatten)           (None, 900)                  0         ['conv1d_6[0][0]']            \n",
            "                                                                                                  \n",
            " dropout (Dropout)           (None, 900)                  0         ['flatten[0][0]']             \n",
            "                                                                                                  \n",
            " dense_6 (Dense)             (None, 256)                  230656    ['dropout[0][0]']             \n",
            "                                                                                                  \n",
            " dense_7 (Dense)             (None, 100)                  25700     ['dense_6[0][0]']             \n",
            "                                                                                                  \n",
            " dense_8 (Dense)             (None, 3)                    303       ['dense_7[0][0]']             \n",
            "                                                                                                  \n",
            "==================================================================================================\n",
            "Total params: 8075353 (30.81 MB)\n",
            "Trainable params: 340453 (1.30 MB)\n",
            "Non-trainable params: 7734900 (29.51 MB)\n",
            "__________________________________________________________________________________________________\n"
          ]
        }
      ]
    },
    {
      "cell_type": "code",
      "source": [
        "# compile the model\n",
        "model.compile(optimizer=Adam(learning_rate = 0.0005), loss='categorical_crossentropy', metrics = ['accuracy'])"
      ],
      "metadata": {
        "execution": {
          "iopub.status.busy": "2021-07-10T11:23:50.941873Z",
          "iopub.execute_input": "2021-07-10T11:23:50.942258Z",
          "iopub.status.idle": "2021-07-10T11:23:50.959808Z",
          "shell.execute_reply.started": "2021-07-10T11:23:50.942226Z",
          "shell.execute_reply": "2021-07-10T11:23:50.958818Z"
        },
        "trusted": true,
        "id": "HhU9bc81iMit"
      },
      "execution_count": 54,
      "outputs": []
    },
    {
      "cell_type": "code",
      "source": [
        "H = model.fit(X, Y, epochs = 4, batch_size=batch_size, verbose = 1, validation_split = 0.2)"
      ],
      "metadata": {
        "execution": {
          "iopub.status.busy": "2021-07-10T11:24:03.336986Z",
          "iopub.execute_input": "2021-07-10T11:24:03.337452Z",
          "iopub.status.idle": "2021-07-10T11:24:24.016797Z",
          "shell.execute_reply.started": "2021-07-10T11:24:03.337420Z",
          "shell.execute_reply": "2021-07-10T11:24:24.015739Z"
        },
        "trusted": true,
        "colab": {
          "base_uri": "https://localhost:8080/"
        },
        "id": "rCnbAcupiMit",
        "outputId": "2647f47c-0225-4564-e48c-a9089dd2532d"
      },
      "execution_count": 55,
      "outputs": [
        {
          "output_type": "stream",
          "name": "stdout",
          "text": [
            "Epoch 1/4\n",
            "683/683 [==============================] - 52s 73ms/step - loss: 0.7865 - accuracy: 0.6424 - val_loss: 0.6622 - val_accuracy: 0.7214\n",
            "Epoch 2/4\n",
            "683/683 [==============================] - 54s 78ms/step - loss: 0.6317 - accuracy: 0.7420 - val_loss: 0.6528 - val_accuracy: 0.7260\n",
            "Epoch 3/4\n",
            "683/683 [==============================] - 49s 72ms/step - loss: 0.5637 - accuracy: 0.7692 - val_loss: 0.6825 - val_accuracy: 0.7339\n",
            "Epoch 4/4\n",
            "683/683 [==============================] - 52s 76ms/step - loss: 0.4849 - accuracy: 0.8113 - val_loss: 0.6861 - val_accuracy: 0.7222\n"
          ]
        }
      ]
    },
    {
      "cell_type": "code",
      "source": [
        "fig, axes = plt.subplots(nrows=1, ncols=2, figsize=(12, 4))\n",
        "\n",
        "# Plot accuracy\n",
        "axes[0].plot(range(1, 5), H.history['accuracy'], label='Training Accuracy')\n",
        "axes[0].plot(range(1, 5), H.history['val_accuracy'], label='Validation Accuracy')\n",
        "axes[0].set_title('Plot of Accuracy vs Epoch')\n",
        "axes[0].set_xlabel('Epoch')\n",
        "axes[0].set_ylabel('Accuracy')\n",
        "axes[0].legend()\n",
        "\n",
        "# Plot loss\n",
        "axes[1].plot(range(1, 5), H.history['loss'], label='Training Loss')\n",
        "axes[1].plot(range(1, 5), H.history['val_loss'], label='Validation Loss')\n",
        "axes[1].set_title('Plot of Loss vs Epoch')\n",
        "axes[1].set_xlabel('Epoch')\n",
        "axes[1].set_ylabel('Loss')\n",
        "axes[1].legend()\n",
        "\n",
        "# Adjust layout to prevent clipping of titles\n",
        "plt.tight_layout()\n",
        "\n",
        "# Show the plots\n",
        "plt.show()"
      ],
      "metadata": {
        "execution": {
          "iopub.status.busy": "2021-07-10T11:24:24.020018Z",
          "iopub.execute_input": "2021-07-10T11:24:24.020471Z",
          "iopub.status.idle": "2021-07-10T11:24:24.386248Z",
          "shell.execute_reply.started": "2021-07-10T11:24:24.020424Z",
          "shell.execute_reply": "2021-07-10T11:24:24.384940Z"
        },
        "trusted": true,
        "colab": {
          "base_uri": "https://localhost:8080/",
          "height": 326
        },
        "id": "E-FHLNeTiMit",
        "outputId": "d5eb5443-033e-44b9-e1ba-9587e5af2a55"
      },
      "execution_count": 57,
      "outputs": [
        {
          "output_type": "display_data",
          "data": {
            "text/plain": [
              "<Figure size 1200x400 with 2 Axes>"
            ],
            "image/png": "[encoded data removed]"
          },
          "metadata": {}
        }
      ]
    },
    {
      "cell_type": "code",
      "source": [
        "model.evaluate(X_test, Y_test, verbose = 2, batch_size = 64)"
      ],
      "metadata": {
        "execution": {
          "iopub.status.busy": "2021-07-10T11:24:34.565986Z",
          "iopub.execute_input": "2021-07-10T11:24:34.566471Z",
          "iopub.status.idle": "2021-07-10T11:24:34.895172Z",
          "shell.execute_reply.started": "2021-07-10T11:24:34.566428Z",
          "shell.execute_reply": "2021-07-10T11:24:34.894081Z"
        },
        "trusted": true,
        "colab": {
          "base_uri": "https://localhost:8080/"
        },
        "id": "1paYGOwgiMit",
        "outputId": "2263a784-27d6-485e-a412-70bda0c1edda"
      },
      "execution_count": 58,
      "outputs": [
        {
          "output_type": "stream",
          "name": "stdout",
          "text": [
            "56/56 - 3s - loss: 0.6778 - accuracy: 0.7241 - 3s/epoch - 54ms/step\n"
          ]
        },
        {
          "output_type": "execute_result",
          "data": {
            "text/plain": [
              "[0.6778451204299927, 0.7241086363792419]"
            ]
          },
          "metadata": {},
          "execution_count": 58
        }
      ]
    },
    {
      "cell_type": "markdown",
      "source": [
        "The Accuracy obtained is 72.41 %"
      ],
      "metadata": {
        "id": "M0QV5TkWiMiu"
      }
    },
    {
      "cell_type": "code",
      "source": [],
      "metadata": {
        "id": "bqZeQVSxLB9r"
      },
      "execution_count": null,
      "outputs": []
    }
  ]
}